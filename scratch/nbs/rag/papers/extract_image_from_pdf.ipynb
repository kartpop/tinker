{
 "cells": [
  {
   "cell_type": "code",
   "execution_count": 1,
   "metadata": {},
   "outputs": [],
   "source": [
    "import fitz  # PyMuPDF\n",
    "\n",
    "def extract_images_from_pdf(pdf_path, output_folder):\n",
    "    # Open the PDF file\n",
    "    pdf_document = fitz.open(pdf_path)\n",
    "    \n",
    "    # Iterate through each page\n",
    "    for page_number in range(len(pdf_document)):\n",
    "        page = pdf_document.load_page(page_number)\n",
    "        images = page.get_images(full=True)\n",
    "        \n",
    "        # Iterate through each image\n",
    "        for img_index, img in enumerate(images):\n",
    "            xref = img[0]\n",
    "            base_image = pdf_document.extract_image(xref)\n",
    "            image_bytes = base_image[\"image\"]\n",
    "            image_ext = base_image[\"ext\"]\n",
    "            image_filename = f\"{output_folder}/image_{page_number + 1}_{img_index + 1}.{image_ext}\"\n",
    "            \n",
    "            # Save the image\n",
    "            with open(image_filename, \"wb\") as image_file:\n",
    "                image_file.write(image_bytes)\n",
    "    \n",
    "    print(\"Images extracted successfully.\")\n",
    "\n"
   ]
  },
  {
   "cell_type": "code",
   "execution_count": 9,
   "metadata": {},
   "outputs": [],
   "source": [
    "import fitz  # PyMuPDF\n",
    "from PIL import Image, ImageOps\n",
    "import io\n",
    "import os\n",
    "\n",
    "def extract_images_from_pdf(pdf_path, output_folder):\n",
    "    # Create output folder if it doesn't exist\n",
    "    os.makedirs(output_folder, exist_ok=True)\n",
    "    \n",
    "    # Open PDF\n",
    "    pdf_document = fitz.open(pdf_path)\n",
    "    \n",
    "    for page_number in range(len(pdf_document)):\n",
    "        page = pdf_document.load_page(page_number)\n",
    "        image_list = page.get_images(full=True)\n",
    "        \n",
    "        for img_index, img in enumerate(image_list):\n",
    "            xref = img[0]\n",
    "            base_image = pdf_document.extract_image(xref)\n",
    "            \n",
    "            # Check if image has mask\n",
    "            if base_image[\"colorspace\"] == 1 and base_image.get(\"mask\", False):\n",
    "                # Handle inverted masks\n",
    "                image_data = base_image[\"image\"]\n",
    "                img = Image.open(io.BytesIO(image_data))\n",
    "                \n",
    "                # Convert to RGB and invert if needed\n",
    "                if img.mode != \"RGB\":\n",
    "                    img = img.convert(\"RGB\")\n",
    "                img = ImageOps.invert(img)\n",
    "            else:\n",
    "                # Regular image processing\n",
    "                image_data = base_image[\"image\"]\n",
    "                img = Image.open(io.BytesIO(image_data))\n",
    "                if img.mode != \"RGB\":\n",
    "                    img = img.convert(\"RGB\")\n",
    "            \n",
    "            # Save image\n",
    "            output_path = f\"{output_folder}/image_{page_number + 1}_{img_index + 1}.png\"\n",
    "            img.save(output_path, \"PNG\")\n",
    "    \n",
    "    pdf_document.close()\n",
    "    print(f\"Extracted {len(image_list)} images from page {page_number + 1}\")\n"
   ]
  },
  {
   "cell_type": "code",
   "execution_count": 10,
   "metadata": {},
   "outputs": [
    {
     "name": "stdout",
     "output_type": "stream",
     "text": [
      "Extracted 1 images from page 20\n"
     ]
    }
   ],
   "source": [
    "# Example usage\n",
    "pdf_path = \"pdfs/De-novo-dna-catch-bonds.pdf\"\n",
    "output_folder = \"pdfs/images/denovo\"\n",
    "extract_images_from_pdf(pdf_path, output_folder)"
   ]
  },
  {
   "cell_type": "code",
   "execution_count": 7,
   "metadata": {},
   "outputs": [],
   "source": [
    "from PIL import Image, ImageOps\n",
    "\n",
    "def invert_image(image_path, output_path):\n",
    "    # Open image\n",
    "    image = Image.open(image_path)\n",
    "    \n",
    "    # Convert to RGB if not already\n",
    "    if image.mode != 'RGB':\n",
    "        image = image.convert('RGB')\n",
    "    \n",
    "    # Invert the colors\n",
    "    inverted_image = ImageOps.invert(image)\n",
    "    \n",
    "    # Save inverted image\n",
    "    inverted_image.save(output_path)\n",
    "\n"
   ]
  },
  {
   "cell_type": "code",
   "execution_count": null,
   "metadata": {},
   "outputs": [],
   "source": [
    "# Example usage\n",
    "input_path = \"pdfs/images/image_12_1.png\"  # Replace with your image path\n",
    "output_path = \"pdfs/images/fixed_image_12_1.png\"    # Replace with desired output path\n",
    "invert_image(input_path, output_path)"
   ]
  },
  {
   "cell_type": "markdown",
   "metadata": {},
   "source": [
    "- Above code snippets have certain drawbacks\n",
    "    - the Biological-applications paper's images get extracted as negatives (inverted color)\n",
    "    - the De-novo DNA catch bonds paper's few images get extracted as individual components, not as one single image as seen in the pdf document\n",
    "\n",
    "Below attempt is to solve the second problem (stitiching together a single image from component images)"
   ]
  },
  {
   "cell_type": "code",
   "execution_count": 3,
   "metadata": {},
   "outputs": [],
   "source": [
    "import fitz\n",
    "from PIL import Image\n",
    "import numpy as np\n",
    "import io\n",
    "import cv2\n",
    "\n",
    "def extract_and_stitch_images(pdf_path, page_num=0):\n",
    "    # Open PDF and get page\n",
    "    doc = fitz.open(pdf_path)\n",
    "    page = doc.load_page(page_num)\n",
    "    \n",
    "    # Get images and their positions\n",
    "    images = page.get_images(full=True)\n",
    "    image_data = []\n",
    "    \n",
    "    # Extract image data and positions\n",
    "    for img in images:\n",
    "        xref = img[0]\n",
    "        base = doc.extract_image(xref)\n",
    "        image_bytes = base[\"image\"]\n",
    "        pil_img = Image.open(io.BytesIO(image_bytes))\n",
    "        \n",
    "        # Convert to RGB if necessary\n",
    "        if pil_img.mode != 'RGB':\n",
    "            pil_img = pil_img.convert('RGB')\n",
    "        \n",
    "        # Convert to numpy array for OpenCV processing\n",
    "        cv_img = np.array(pil_img)\n",
    "        rect = fitz.Rect(img[3], img[4], img[5], img[6])\n",
    "        image_data.append({\n",
    "            'image': cv_img,\n",
    "            'rect': rect,\n",
    "            'width': cv_img.shape[1],\n",
    "            'height': cv_img.shape[0]\n",
    "        })\n",
    "    \n",
    "    # Create output canvas\n",
    "    page_width, page_height = int(page.rect.width), int(page.rect.height)\n",
    "    output = np.zeros((page_height, page_width, 3), dtype=np.uint8)\n",
    "    mask = np.zeros((page_height, page_width), dtype=np.uint8)\n",
    "    \n",
    "    # Sort images by area (larger images first)\n",
    "    image_data.sort(key=lambda x: x['width'] * x['height'], reverse=True)\n",
    "    \n",
    "    for img_info in image_data:\n",
    "        x0, y0 = int(img_info['rect'].x0), int(img_info['rect'].y0)\n",
    "        img = img_info['image']\n",
    "        h, w = img.shape[:2]\n",
    "        \n",
    "        # Create ROI\n",
    "        roi = output[y0:y0+h, x0:x0+w]\n",
    "        img_mask = mask[y0:y0+h, x0:x0+w]\n",
    "        \n",
    "        # Blend images in overlapping regions\n",
    "        alpha = 0.5\n",
    "        overlap_mask = img_mask > 0\n",
    "        \n",
    "        if overlap_mask.any():\n",
    "            # In overlapping regions, blend with existing image\n",
    "            roi[overlap_mask] = cv2.addWeighted(\n",
    "                roi[overlap_mask], 1-alpha,\n",
    "                img[overlap_mask], alpha, 0\n",
    "            )\n",
    "            # In non-overlapping regions, use new image\n",
    "            roi[~overlap_mask] = img[~overlap_mask]\n",
    "        else:\n",
    "            # No overlap, just copy the image\n",
    "            roi[:] = img\n",
    "        \n",
    "        # Update mask\n",
    "        mask[y0:y0+h, x0:x0+w] = 255\n",
    "    \n",
    "    # Convert back to PIL Image\n",
    "    result = Image.fromarray(output)\n",
    "    return result\n",
    "\n"
   ]
  },
  {
   "cell_type": "code",
   "execution_count": 4,
   "metadata": {},
   "outputs": [
    {
     "ename": "ValueError",
     "evalue": "could not convert string to float: 'ICCBased'",
     "output_type": "error",
     "traceback": [
      "\u001b[0;31m---------------------------------------------------------------------------\u001b[0m",
      "\u001b[0;31mValueError\u001b[0m                                Traceback (most recent call last)",
      "\u001b[0;32m/tmp/ipykernel_54096/4083618737.py\u001b[0m in \u001b[0;36m?\u001b[0;34m()\u001b[0m\n\u001b[1;32m      1\u001b[0m \u001b[0;31m# Usage\u001b[0m\u001b[0;34m\u001b[0m\u001b[0;34m\u001b[0m\u001b[0m\n\u001b[1;32m      2\u001b[0m \u001b[0mpdf_path\u001b[0m \u001b[0;34m=\u001b[0m \u001b[0;34m\"pdfs/De-novo-dna-catch-bonds.pdf\"\u001b[0m\u001b[0;34m\u001b[0m\u001b[0;34m\u001b[0m\u001b[0m\n\u001b[1;32m      3\u001b[0m \u001b[0;34m\u001b[0m\u001b[0m\n\u001b[0;32m----> 4\u001b[0;31m \u001b[0mresult_image\u001b[0m \u001b[0;34m=\u001b[0m \u001b[0mextract_and_stitch_images\u001b[0m\u001b[0;34m(\u001b[0m\u001b[0mpdf_path\u001b[0m\u001b[0;34m,\u001b[0m \u001b[0;36m1\u001b[0m\u001b[0;34m)\u001b[0m\u001b[0;34m\u001b[0m\u001b[0;34m\u001b[0m\u001b[0m\n\u001b[0m\u001b[1;32m      5\u001b[0m \u001b[0mresult_image\u001b[0m\u001b[0;34m.\u001b[0m\u001b[0msave\u001b[0m\u001b[0;34m(\u001b[0m\u001b[0;34m\"pdfs/images/denovo/stitched/page_2.png\"\u001b[0m\u001b[0;34m)\u001b[0m\u001b[0;34m\u001b[0m\u001b[0;34m\u001b[0m\u001b[0m\n",
      "\u001b[0;32m/tmp/ipykernel_54096/2283320238.py\u001b[0m in \u001b[0;36m?\u001b[0;34m(pdf_path, page_num)\u001b[0m\n\u001b[1;32m     25\u001b[0m             \u001b[0mpil_img\u001b[0m \u001b[0;34m=\u001b[0m \u001b[0mpil_img\u001b[0m\u001b[0;34m.\u001b[0m\u001b[0mconvert\u001b[0m\u001b[0;34m(\u001b[0m\u001b[0;34m'RGB'\u001b[0m\u001b[0;34m)\u001b[0m\u001b[0;34m\u001b[0m\u001b[0;34m\u001b[0m\u001b[0m\n\u001b[1;32m     26\u001b[0m \u001b[0;34m\u001b[0m\u001b[0m\n\u001b[1;32m     27\u001b[0m         \u001b[0;31m# Convert to numpy array for OpenCV processing\u001b[0m\u001b[0;34m\u001b[0m\u001b[0;34m\u001b[0m\u001b[0m\n\u001b[1;32m     28\u001b[0m         \u001b[0mcv_img\u001b[0m \u001b[0;34m=\u001b[0m \u001b[0mnp\u001b[0m\u001b[0;34m.\u001b[0m\u001b[0marray\u001b[0m\u001b[0;34m(\u001b[0m\u001b[0mpil_img\u001b[0m\u001b[0;34m)\u001b[0m\u001b[0;34m\u001b[0m\u001b[0;34m\u001b[0m\u001b[0m\n\u001b[0;32m---> 29\u001b[0;31m         \u001b[0mrect\u001b[0m \u001b[0;34m=\u001b[0m \u001b[0mfitz\u001b[0m\u001b[0;34m.\u001b[0m\u001b[0mRect\u001b[0m\u001b[0;34m(\u001b[0m\u001b[0mimg\u001b[0m\u001b[0;34m[\u001b[0m\u001b[0;36m3\u001b[0m\u001b[0;34m]\u001b[0m\u001b[0;34m,\u001b[0m \u001b[0mimg\u001b[0m\u001b[0;34m[\u001b[0m\u001b[0;36m4\u001b[0m\u001b[0;34m]\u001b[0m\u001b[0;34m,\u001b[0m \u001b[0mimg\u001b[0m\u001b[0;34m[\u001b[0m\u001b[0;36m5\u001b[0m\u001b[0;34m]\u001b[0m\u001b[0;34m,\u001b[0m \u001b[0mimg\u001b[0m\u001b[0;34m[\u001b[0m\u001b[0;36m6\u001b[0m\u001b[0;34m]\u001b[0m\u001b[0;34m)\u001b[0m\u001b[0;34m\u001b[0m\u001b[0;34m\u001b[0m\u001b[0m\n\u001b[0m\u001b[1;32m     30\u001b[0m         image_data.append({\n\u001b[1;32m     31\u001b[0m             \u001b[0;34m'image'\u001b[0m\u001b[0;34m:\u001b[0m \u001b[0mcv_img\u001b[0m\u001b[0;34m,\u001b[0m\u001b[0;34m\u001b[0m\u001b[0;34m\u001b[0m\u001b[0m\n\u001b[1;32m     32\u001b[0m             \u001b[0;34m'rect'\u001b[0m\u001b[0;34m:\u001b[0m \u001b[0mrect\u001b[0m\u001b[0;34m,\u001b[0m\u001b[0;34m\u001b[0m\u001b[0;34m\u001b[0m\u001b[0m\n",
      "\u001b[0;32m~/miniconda3/envs/argonk/lib/python3.12/site-packages/pymupdf/__init__.py\u001b[0m in \u001b[0;36m?\u001b[0;34m(self, p0, p1, x0, y0, x1, y1, *args)\u001b[0m\n\u001b[1;32m  11048\u001b[0m         \"\"\"\n\u001b[1;32m  11049\u001b[0m         \u001b[0mx0\u001b[0m\u001b[0;34m,\u001b[0m \u001b[0my0\u001b[0m\u001b[0;34m,\u001b[0m \u001b[0mx1\u001b[0m\u001b[0;34m,\u001b[0m \u001b[0my1\u001b[0m \u001b[0;34m=\u001b[0m \u001b[0mutil_make_rect\u001b[0m\u001b[0;34m(\u001b[0m \u001b[0;34m*\u001b[0m\u001b[0margs\u001b[0m\u001b[0;34m,\u001b[0m \u001b[0mp0\u001b[0m\u001b[0;34m=\u001b[0m\u001b[0mp0\u001b[0m\u001b[0;34m,\u001b[0m \u001b[0mp1\u001b[0m\u001b[0;34m=\u001b[0m\u001b[0mp1\u001b[0m\u001b[0;34m,\u001b[0m \u001b[0mx0\u001b[0m\u001b[0;34m=\u001b[0m\u001b[0mx0\u001b[0m\u001b[0;34m,\u001b[0m \u001b[0my0\u001b[0m\u001b[0;34m=\u001b[0m\u001b[0my0\u001b[0m\u001b[0;34m,\u001b[0m \u001b[0mx1\u001b[0m\u001b[0;34m=\u001b[0m\u001b[0mx1\u001b[0m\u001b[0;34m,\u001b[0m \u001b[0my1\u001b[0m\u001b[0;34m=\u001b[0m\u001b[0my1\u001b[0m\u001b[0;34m)\u001b[0m\u001b[0;34m\u001b[0m\u001b[0;34m\u001b[0m\u001b[0m\n\u001b[1;32m  11050\u001b[0m         \u001b[0mself\u001b[0m\u001b[0;34m.\u001b[0m\u001b[0mx0\u001b[0m \u001b[0;34m=\u001b[0m \u001b[0mfloat\u001b[0m\u001b[0;34m(\u001b[0m \u001b[0mx0\u001b[0m\u001b[0;34m)\u001b[0m\u001b[0;34m\u001b[0m\u001b[0;34m\u001b[0m\u001b[0m\n\u001b[1;32m  11051\u001b[0m         \u001b[0mself\u001b[0m\u001b[0;34m.\u001b[0m\u001b[0my0\u001b[0m \u001b[0;34m=\u001b[0m \u001b[0mfloat\u001b[0m\u001b[0;34m(\u001b[0m \u001b[0my0\u001b[0m\u001b[0;34m)\u001b[0m\u001b[0;34m\u001b[0m\u001b[0;34m\u001b[0m\u001b[0m\n\u001b[0;32m> 11052\u001b[0;31m         \u001b[0mself\u001b[0m\u001b[0;34m.\u001b[0m\u001b[0mx1\u001b[0m \u001b[0;34m=\u001b[0m \u001b[0mfloat\u001b[0m\u001b[0;34m(\u001b[0m \u001b[0mx1\u001b[0m\u001b[0;34m)\u001b[0m\u001b[0;34m\u001b[0m\u001b[0;34m\u001b[0m\u001b[0m\n\u001b[0m\u001b[1;32m  11053\u001b[0m         \u001b[0mself\u001b[0m\u001b[0;34m.\u001b[0m\u001b[0my1\u001b[0m \u001b[0;34m=\u001b[0m \u001b[0mfloat\u001b[0m\u001b[0;34m(\u001b[0m \u001b[0my1\u001b[0m\u001b[0;34m)\u001b[0m\u001b[0;34m\u001b[0m\u001b[0;34m\u001b[0m\u001b[0m\n",
      "\u001b[0;31mValueError\u001b[0m: could not convert string to float: 'ICCBased'"
     ]
    }
   ],
   "source": [
    "# Usage\n",
    "pdf_path = \"pdfs/De-novo-dna-catch-bonds.pdf\"\n",
    "\n",
    "result_image = extract_and_stitch_images(pdf_path, 1)\n",
    "result_image.save(\"pdfs/images/denovo/stitched/page_2.png\")"
   ]
  },
  {
   "cell_type": "code",
   "execution_count": 2,
   "metadata": {},
   "outputs": [
    {
     "name": "stdout",
     "output_type": "stream",
     "text": [
      "4.10.0\n"
     ]
    }
   ],
   "source": [
    "import cv2\n",
    "print(cv2.__version__)"
   ]
  },
  {
   "cell_type": "code",
   "execution_count": null,
   "metadata": {},
   "outputs": [],
   "source": []
  }
 ],
 "metadata": {
  "kernelspec": {
   "display_name": "Python (argonk)",
   "language": "python",
   "name": "argonk"
  },
  "language_info": {
   "codemirror_mode": {
    "name": "ipython",
    "version": 3
   },
   "file_extension": ".py",
   "mimetype": "text/x-python",
   "name": "python",
   "nbconvert_exporter": "python",
   "pygments_lexer": "ipython3",
   "version": "3.12.4"
  }
 },
 "nbformat": 4,
 "nbformat_minor": 2
}
