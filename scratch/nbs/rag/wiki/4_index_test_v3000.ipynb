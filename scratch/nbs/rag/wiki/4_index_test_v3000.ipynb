{
 "cells": [
  {
   "cell_type": "markdown",
   "metadata": {},
   "source": [
    "### Imports"
   ]
  },
  {
   "cell_type": "code",
   "execution_count": 1,
   "metadata": {},
   "outputs": [
    {
     "name": "stderr",
     "output_type": "stream",
     "text": [
      "/home/kartikeya/miniconda3/envs/argonk/lib/python3.12/site-packages/tqdm/auto.py:21: TqdmWarning: IProgress not found. Please update jupyter and ipywidgets. See https://ipywidgets.readthedocs.io/en/stable/user_install.html\n",
      "  from .autonotebook import tqdm as notebook_tqdm\n",
      "/home/kartikeya/miniconda3/envs/argonk/lib/python3.12/site-packages/google/protobuf/runtime_version.py:112: UserWarning: Protobuf gencode version 5.27.2 is older than the runtime version 5.28.0 at grpc_health/v1/health.proto. Please avoid checked-in Protobuf gencode that can be obsolete.\n",
      "  warnings.warn(\n"
     ]
    }
   ],
   "source": [
    "import sys\n",
    "import os\n",
    "\n",
    "# Add the parent directory of 'wiki' to the Python path\n",
    "sys.path.append(os.path.abspath(os.path.join(os.getcwd(), '..')))\n",
    "\n",
    "import json\n",
    "import redis\n",
    "from typing import List, Dict\n",
    "from pathlib import Path\n",
    "from haystack import Document\n",
    "from typing import Tuple\n",
    "from haystack.document_stores.types import DuplicatePolicy\n",
    "from wiki.lib.index.graph.page_graph_creator import Neo4jPageGraphCreator\n",
    "from wiki.lib.index.graph.category_graph_creator import Neo4jCategoryGraphCreator\n",
    "from haystack.components.embedders import OpenAIDocumentEmbedder\n",
    "from haystack_integrations.document_stores.weaviate.document_store import WeaviateDocumentStore\n",
    "from haystack.components.writers import DocumentWriter\n",
    "from haystack_integrations.document_stores.elasticsearch import ElasticsearchDocumentStore\n"
   ]
  },
  {
   "cell_type": "markdown",
   "metadata": {},
   "source": [
    "### Global variables (kind of)"
   ]
  },
  {
   "cell_type": "code",
   "execution_count": 2,
   "metadata": {},
   "outputs": [],
   "source": [
    "r = redis.Redis(host='localhost', port=6379, db=0)\n",
    "embedder = OpenAIDocumentEmbedder(model=\"text-embedding-3-small\")\n",
    "w_store = WeaviateDocumentStore(url=\"http://localhost:8088\")\n",
    "w_writer = DocumentWriter(document_store=w_store, policy=DuplicatePolicy.SKIP)\n",
    "e_store = ElasticsearchDocumentStore(hosts= \"http://localhost:9200\")\n",
    "e_writer = DocumentWriter(document_store=e_store, policy=DuplicatePolicy.SKIP)\n"
   ]
  },
  {
   "cell_type": "markdown",
   "metadata": {},
   "source": [
    "### Download"
   ]
  },
  {
   "cell_type": "code",
   "execution_count": 9,
   "metadata": {},
   "outputs": [
    {
     "data": {
      "text/plain": [
       "3760"
      ]
     },
     "execution_count": 9,
     "metadata": {},
     "output_type": "execute_result"
    }
   ],
   "source": [
    "r.scard(\"downloaded_pages\")"
   ]
  },
  {
   "cell_type": "code",
   "execution_count": 10,
   "metadata": {},
   "outputs": [
    {
     "data": {
      "text/plain": [
       "371"
      ]
     },
     "execution_count": 10,
     "metadata": {},
     "output_type": "execute_result"
    }
   ],
   "source": [
    "r.scard(\"downloaded_categories\")"
   ]
  },
  {
   "cell_type": "markdown",
   "metadata": {},
   "source": [
    "### Chunk"
   ]
  },
  {
   "cell_type": "code",
   "execution_count": 11,
   "metadata": {},
   "outputs": [
    {
     "data": {
      "text/plain": [
       "3761"
      ]
     },
     "execution_count": 11,
     "metadata": {},
     "output_type": "execute_result"
    }
   ],
   "source": [
    "r.scard(\"chunked_pages\")"
   ]
  },
  {
   "cell_type": "code",
   "execution_count": 12,
   "metadata": {},
   "outputs": [
    {
     "data": {
      "text/plain": [
       "371"
      ]
     },
     "execution_count": 12,
     "metadata": {},
     "output_type": "execute_result"
    }
   ],
   "source": [
    "r.scard(\"chunked_categories\")"
   ]
  },
  {
   "cell_type": "markdown",
   "metadata": {},
   "source": [
    "### Index"
   ]
  },
  {
   "cell_type": "code",
   "execution_count": 20,
   "metadata": {},
   "outputs": [
    {
     "data": {
      "text/plain": [
       "3761"
      ]
     },
     "execution_count": 20,
     "metadata": {},
     "output_type": "execute_result"
    }
   ],
   "source": [
    "r.scard(\"indexed_pages\")"
   ]
  },
  {
   "cell_type": "code",
   "execution_count": 21,
   "metadata": {},
   "outputs": [
    {
     "data": {
      "text/plain": [
       "371"
      ]
     },
     "execution_count": 21,
     "metadata": {},
     "output_type": "execute_result"
    }
   ],
   "source": [
    "r.scard(\"indexed_categories\")"
   ]
  },
  {
   "cell_type": "markdown",
   "metadata": {},
   "source": [
    "### DELETE INDEXED REDIS SET"
   ]
  },
  {
   "cell_type": "code",
   "execution_count": 16,
   "metadata": {},
   "outputs": [
    {
     "data": {
      "text/plain": [
       "1"
      ]
     },
     "execution_count": 16,
     "metadata": {},
     "output_type": "execute_result"
    }
   ],
   "source": [
    "r.delete(\"indexed_pages\")"
   ]
  },
  {
   "cell_type": "code",
   "execution_count": 17,
   "metadata": {},
   "outputs": [
    {
     "data": {
      "text/plain": [
       "1"
      ]
     },
     "execution_count": 17,
     "metadata": {},
     "output_type": "execute_result"
    }
   ],
   "source": [
    "r.delete(\"indexed_categories\")"
   ]
  },
  {
   "cell_type": "markdown",
   "metadata": {},
   "source": [
    "### Weaviate"
   ]
  },
  {
   "cell_type": "code",
   "execution_count": 22,
   "metadata": {},
   "outputs": [
    {
     "data": {
      "text/plain": [
       "77759"
      ]
     },
     "execution_count": 22,
     "metadata": {},
     "output_type": "execute_result"
    }
   ],
   "source": [
    "w_store.count_documents()"
   ]
  },
  {
   "cell_type": "markdown",
   "metadata": {},
   "source": [
    "### Elasticsearch"
   ]
  },
  {
   "cell_type": "code",
   "execution_count": 23,
   "metadata": {},
   "outputs": [
    {
     "data": {
      "text/plain": [
       "77759"
      ]
     },
     "execution_count": 23,
     "metadata": {},
     "output_type": "execute_result"
    }
   ],
   "source": [
    "e_store.count_documents()"
   ]
  },
  {
   "cell_type": "code",
   "execution_count": 24,
   "metadata": {},
   "outputs": [
    {
     "data": {
      "text/plain": [
       "[Document(id=d78ae765-7bae-4279-a37f-b0e85d9d3265, content: 'Daemonosaurus was named by Hans-Dieter Sues, Sterling J. Nesbitt, David S. Berman and Amy C. Henrici...', meta: {'file_path': '/aux/data/wiki/v3000/Dinosaurs/Dinosaurs_by_geologic_time_unit/Mesozoic_dinosaurs/Mesozoic_dinosaurs_of_North_America/Triassic_dinosaurs_of_North_America/Late_Triassic_dinosaurs_of_North_America/Daemonosaurus.html', 'source_id': '6ebcda616c731658766d043c4fb846836b2abffda76eb8ffa52f2af056d2e754', 'split_id': 2, 'title': 'Daemonosaurus', 'h2': 'Discovery'}, score: 0.0)]"
      ]
     },
     "execution_count": 24,
     "metadata": {},
     "output_type": "execute_result"
    }
   ],
   "source": [
    "e_store.filter_documents(filters = {\"field\": \"id\", \"operator\": \"==\", \"value\": \"d78ae765-7bae-4279-a37f-b0e85d9d3265\"})"
   ]
  },
  {
   "cell_type": "code",
   "execution_count": 25,
   "metadata": {},
   "outputs": [
    {
     "data": {
      "text/plain": [
       "[Document(id=48275e94-9b70-4bc2-9e25-30195078ac8f, content: 'The family Mamenchisauridae is found widespread throughout Asia. A majority of the genera are found ...', meta: {'file_path': '/aux/data/wiki/v3000/Dinosaurs/Saurischians/Sauropodomorphs/Massopoda/Sauropods/Eusauropoda.html', 'source_id': '5a9e41f5d59b37a4443d403380ddf00b11753be0255e3a569bbcd5ab92b628c0', 'split_id': 11, 'title': 'Eusauropoda', 'h2': 'Distribution'}, score: 0.0)]"
      ]
     },
     "execution_count": 25,
     "metadata": {},
     "output_type": "execute_result"
    }
   ],
   "source": [
    "e_store.filter_documents(filters = {\"field\": \"id\", \"operator\": \"==\", \"value\": \"48275e94-9b70-4bc2-9e25-30195078ac8f\"})"
   ]
  },
  {
   "cell_type": "code",
   "execution_count": 26,
   "metadata": {},
   "outputs": [
    {
     "data": {
      "text/plain": [
       "[Document(id=ba6b0326-1c5f-4cfa-9d84-8a7924ac30dc, content: 'The proximodorsal process is a feature of the skeleton of archosaurs. It may be a pair of tabs or bl...', meta: {'file_path': '/aux/data/wiki/v3000/Dinosaurs/Dinosaurs_by_geologic_time_unit/Mesozoic_dinosaurs/Proximodorsal_process.html', 'source_id': 'bcc02638baead7daa42a3b45a9393d598c56e914a2a18a93c36e4cdd1bbfb220', 'split_id': 0, 'title': 'Proximodorsal process'}, score: 0.0)]"
      ]
     },
     "execution_count": 26,
     "metadata": {},
     "output_type": "execute_result"
    }
   ],
   "source": [
    "\n",
    "e_store.filter_documents(filters = {\"field\": \"id\", \"operator\": \"==\", \"value\": \"ba6b0326-1c5f-4cfa-9d84-8a7924ac30dc\"})\n"
   ]
  },
  {
   "cell_type": "code",
   "execution_count": 29,
   "metadata": {},
   "outputs": [
    {
     "data": {
      "text/plain": [
       "[Document(id=0654bcf7-0682-4196-b9fb-6493c6db0e63, content: 'Dinosaurs are a diverse group of reptiles of the clade Dinosauria . They first appeared during the T...', meta: {'file_path': '/aux/data/wiki/v3000/Dinosaurs/Dinosaur.html', 'source_id': '67149effeb007f8f932e140439ae0dda5ab02dcc2494696f920fb494905be33b', 'split_id': 0, 'title': 'Dinosaur'}, score: 0.0)]"
      ]
     },
     "execution_count": 29,
     "metadata": {},
     "output_type": "execute_result"
    }
   ],
   "source": [
    "\n",
    "e_store.filter_documents(filters = {\"field\": \"id\", \"operator\": \"==\", \"value\": \"0654bcf7-0682-4196-b9fb-6493c6db0e63\"})\n"
   ]
  },
  {
   "cell_type": "code",
   "execution_count": 30,
   "metadata": {},
   "outputs": [
    {
     "data": {
      "text/plain": [
       "[Document(id=a2ea22fa-4f16-4405-9706-5862c1371da3, content: 'The first dinosaur fossils were recognized in the early 19th century, with the name \"dinosaur\" (mean...', meta: {'file_path': '/aux/data/wiki/v3000/Dinosaurs/Dinosaur.html', 'source_id': '67149effeb007f8f932e140439ae0dda5ab02dcc2494696f920fb494905be33b', 'split_id': 3, 'title': 'Dinosaur'}, score: 0.0)]"
      ]
     },
     "execution_count": 30,
     "metadata": {},
     "output_type": "execute_result"
    }
   ],
   "source": [
    "\n",
    "e_store.filter_documents(filters = {\"field\": \"id\", \"operator\": \"==\", \"value\": \"a2ea22fa-4f16-4405-9706-5862c1371da3\"})\n"
   ]
  },
  {
   "cell_type": "markdown",
   "metadata": {},
   "source": []
  }
 ],
 "metadata": {
  "kernelspec": {
   "display_name": "Python (argonk)",
   "language": "python",
   "name": "argonk"
  },
  "language_info": {
   "codemirror_mode": {
    "name": "ipython",
    "version": 3
   },
   "file_extension": ".py",
   "mimetype": "text/x-python",
   "name": "python",
   "nbconvert_exporter": "python",
   "pygments_lexer": "ipython3",
   "version": "3.12.4"
  }
 },
 "nbformat": 4,
 "nbformat_minor": 2
}
