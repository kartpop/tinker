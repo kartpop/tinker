{
 "cells": [
  {
   "cell_type": "code",
   "execution_count": 1,
   "metadata": {},
   "outputs": [],
   "source": [
    "prompt_dev = \"\"\"\n",
    "\n",
    "You are an AI assistant that generates Python scripts using Matplotlib to create diagrams illustrating science concepts.\n",
    "\n",
    "You may be doing this task for the first time or as a redo based on feedback. \n",
    "\n",
    "Your output should be a json object with the following keys:\n",
    "{\n",
    "    \"plan\": \"Your pseudocode plan or your steps to improve the diagram based on feedback.\",\n",
    "    \"code\": \"Your Python code to generate the diagram.\",\n",
    "}\n",
    "\n",
    "If you are doing this task for the first time:\n",
    "\n",
    "- **Analyze** the text and identify key concepts that can be visually represented.\n",
    "    - **Concepts**: The text will contain scientific concepts.\n",
    "- **Scientific Accuracy**: Ensure the diagram is scientifically accurate and correctly represents the concepts.\n",
    "- **Easy Digestion**: Make the diagram easy to understand and digest, ensuring that the key concepts are clearly communicated.\n",
    "- **Plan** step-by-step what to include in the diagram, and write this plan in pseudocode with great detail.\n",
    "\n",
    "\n",
    "If you are doing this task as a REDO:\n",
    "\n",
    "- **Thoroughly review** your previous work and the subsequent feedback before proceeding.\n",
    "    - You have access to your previously generated code, the resulting image and the feedback provided.\n",
    "- **Aim to improve your performance** based on the feedback provided. Specifically, focus on the following:\n",
    "    - **Scientific Accuracy**: Ensure the diagram accurately represents the scientific concept.\n",
    "    - **Clarity**: Make the diagram as clear and easy to understand as possible. Consider labels, colors, and other visual elements.\n",
    "    - **Adhere to Feedback**: If feedback exists in previous chat completion messages, adhere to the feedback strictly.\n",
    "\n",
    "\n",
    "For both FIRST TIMERS and REDOERS:\n",
    "\n",
    "- **Assume**: \n",
    "    - the following imports have been made.\n",
    "        `import matplotlib.pyplot as plt\n",
    "        import numpy as np`\n",
    "    - the following variables are available to you:\n",
    "        - 'folder': a string containing the folder name.\n",
    "        - 'filename': a string containing the filename.\n",
    "- **Code output** the complete Python code in a single code block.\n",
    "    **Save** the plot: filepath should be combination of 'folder' and 'filename' which MUST be constructed and inserted as f string. (eg. ```plt.savefig(<insert-f-string>, format='png', dpi=300, bbox_inches='tight')```)\n",
    "\n",
    "Your code should be complete and runnable as-is to generate the diagram.\n",
    "\n",
    "Adhere STRICTLY to the output format specified:\n",
    "{\n",
    "    \"plan\": \"...\",\n",
    "    \"code\": \"...\",\n",
    "}\n",
    "\n",
    "\"\"\""
   ]
  },
  {
   "cell_type": "code",
   "execution_count": 2,
   "metadata": {},
   "outputs": [],
   "source": [
    "prompt_qa = \"\"\"\n",
    "\n",
    "You are an AI assistant that critiques Matplotlib diagrams, especially those illustrating STEM concepts.\n",
    "\n",
    "Your task is as follows:\n",
    "\n",
    "1. **Analyze** the diagram provided.\n",
    "2. **Identify** flaws in the diagram. Flaws can be both:\n",
    "    - **Visual**: Issues with clarity, labeling, aesthetics, color choices, or any elements that may cause confusion or misinterpretation.\n",
    "    - **Conceptual**: Errors in the representation of the underlying STEM concepts, inaccuracies in the data, or misinterpretations of the scientific principles.\n",
    "3. **Provide a detailed critique**:\n",
    "    - **Visual Flaws**: Describe each visual flaw clearly and suggest specific improvements.\n",
    "    - **Conceptual Flaws**: Pinpoint exact conceptual faults, explain why they are incorrect, and provide step-by-step instructions to resolve them.\n",
    "4. **If the diagram is correct** and has no flaws, state that it is correct.\n",
    "5. **If the diagram is incorrect** or can be improved, provide clear, detailed, and actionable instructions for improving the diagram. These instructions should include:\n",
    "    - Specific changes to the visual elements (e.g., labels, colors, line styles).\n",
    "    - Corrections to the conceptual representation (e.g., correct formulas, accurate data representation).\n",
    "    - If necessary, suggest completely redoing the work with a new approach or diagram.\n",
    "6. **Ensure clarity and precision**: Your critique should be easy to understand and implement, with no ambiguity.\n",
    "\n",
    "\"\"\""
   ]
  },
  {
   "cell_type": "markdown",
   "metadata": {},
   "source": [
    "ideas\n",
    "- prompt_qa: add -> you have access to code and base64 image\n",
    "- prompt_dev: add -> you have access to previous code, base64 image and critique...\n",
    "\n",
    "\n",
    "- function which generates image -> returns dict : { 'image': 'true', 'base64': '......'}\n",
    "\n",
    "- handle_tool_calls func in swarm.core should append an extra role: user message with base64 image\n",
    "\n",
    "- run func in swarm.core should truncate earlier dev, image, qa messages so that an image is not sent a lot many times...\n",
    "\n",
    "\n",
    "ABANDONED ABOVE STRATEGY!!!\n",
    "\n",
    "Agentic workflow is not necessary for above use case. A simple loop, where each loop first creates an image and then QAs it is much simpler and controllable.\n",
    "\n",
    "\n"
   ]
  },
  {
   "cell_type": "code",
   "execution_count": 4,
   "metadata": {},
   "outputs": [
    {
     "name": "stdout",
     "output_type": "stream",
     "text": [
      "Image URL: https://gofile.io/d/cIDjb0\n"
     ]
    }
   ],
   "source": [
    "import requests\n",
    "\n",
    "file_path = 'diagrams_v3/airfoil_lift_diagram.png'\n",
    "response = requests.post(\"https://store6.gofile.io/uploadFile\", files={\"file\": open(file_path, \"rb\")})\n",
    "link = response.json()[\"data\"][\"downloadPage\"]\n",
    "print(\"Image URL:\", link)\n"
   ]
  },
  {
   "cell_type": "code",
   "execution_count": 6,
   "metadata": {},
   "outputs": [
    {
     "name": "stdout",
     "output_type": "stream",
     "text": [
      "{'data': {'createTime': 1730680870, 'downloadPage': 'https://gofile.io/d/cIDjb0', 'guestToken': 'fTkNogCvxfGULopV0g3WAA8oEhLuRp8p', 'id': 'e15c0599-6c60-4a0d-b559-bb49b60bf5a2', 'md5': '61113e362aa919069876e5df064f12eb', 'mimetype': 'image/png', 'modTime': 1730680870, 'name': 'airfoil_lift_diagram.png', 'parentFolder': 'c1e733f1-460b-43f5-9bdb-ce2a4164e906', 'parentFolderCode': 'cIDjb0', 'servers': ['store6'], 'size': 181097, 'type': 'file'}, 'status': 'ok'}\n"
     ]
    }
   ],
   "source": [
    "print(response.json())"
   ]
  },
  {
   "cell_type": "code",
   "execution_count": 7,
   "metadata": {},
   "outputs": [],
   "source": [
    "def get_image_url(response_json):\n",
    "    data = response_json['data']\n",
    "    server = data['servers'][0]\n",
    "    file_id = data['id']\n",
    "    filename = data['name']\n",
    "    \n",
    "    return f\"https://{server}.gofile.io/download/web/{file_id}/{filename}\""
   ]
  },
  {
   "cell_type": "code",
   "execution_count": 10,
   "metadata": {},
   "outputs": [
    {
     "data": {
      "text/plain": [
       "'https://store6.gofile.io/download/web/e15c0599-6c60-4a0d-b559-bb49b60bf5a2/airfoil_lift_diagram.png'"
      ]
     },
     "execution_count": 10,
     "metadata": {},
     "output_type": "execute_result"
    }
   ],
   "source": [
    "link = get_image_url(response.json())\n",
    "\n",
    "link"
   ]
  },
  {
   "cell_type": "code",
   "execution_count": 13,
   "metadata": {},
   "outputs": [
    {
     "ename": "BadRequestError",
     "evalue": "Error code: 400 - {'error': {'message': \"You uploaded an unsupported image. Please make sure your image has of one the following formats: ['png', 'jpeg', 'gif', 'webp'].\", 'type': 'invalid_request_error', 'param': None, 'code': 'invalid_image_format'}}",
     "output_type": "error",
     "traceback": [
      "\u001b[0;31m---------------------------------------------------------------------------\u001b[0m",
      "\u001b[0;31mBadRequestError\u001b[0m                           Traceback (most recent call last)",
      "Cell \u001b[0;32mIn[13], line 5\u001b[0m\n\u001b[1;32m      1\u001b[0m \u001b[38;5;28;01mfrom\u001b[39;00m \u001b[38;5;21;01mopenai\u001b[39;00m \u001b[38;5;28;01mimport\u001b[39;00m OpenAI\n\u001b[1;32m      3\u001b[0m client \u001b[38;5;241m=\u001b[39m OpenAI()\n\u001b[0;32m----> 5\u001b[0m response \u001b[38;5;241m=\u001b[39m \u001b[43mclient\u001b[49m\u001b[38;5;241;43m.\u001b[39;49m\u001b[43mchat\u001b[49m\u001b[38;5;241;43m.\u001b[39;49m\u001b[43mcompletions\u001b[49m\u001b[38;5;241;43m.\u001b[39;49m\u001b[43mcreate\u001b[49m\u001b[43m(\u001b[49m\n\u001b[1;32m      6\u001b[0m \u001b[43m  \u001b[49m\u001b[43mmodel\u001b[49m\u001b[38;5;241;43m=\u001b[39;49m\u001b[38;5;124;43m\"\u001b[39;49m\u001b[38;5;124;43mgpt-4o-mini\u001b[39;49m\u001b[38;5;124;43m\"\u001b[39;49m\u001b[43m,\u001b[49m\n\u001b[1;32m      7\u001b[0m \u001b[43m  \u001b[49m\u001b[43mmessages\u001b[49m\u001b[38;5;241;43m=\u001b[39;49m\u001b[43m[\u001b[49m\n\u001b[1;32m      8\u001b[0m \u001b[43m    \u001b[49m\u001b[43m{\u001b[49m\n\u001b[1;32m      9\u001b[0m \u001b[43m      \u001b[49m\u001b[38;5;124;43m\"\u001b[39;49m\u001b[38;5;124;43mrole\u001b[39;49m\u001b[38;5;124;43m\"\u001b[39;49m\u001b[43m:\u001b[49m\u001b[43m \u001b[49m\u001b[38;5;124;43m\"\u001b[39;49m\u001b[38;5;124;43muser\u001b[39;49m\u001b[38;5;124;43m\"\u001b[39;49m\u001b[43m,\u001b[49m\n\u001b[1;32m     10\u001b[0m \u001b[43m      \u001b[49m\u001b[38;5;124;43m\"\u001b[39;49m\u001b[38;5;124;43mcontent\u001b[39;49m\u001b[38;5;124;43m\"\u001b[39;49m\u001b[43m:\u001b[49m\u001b[43m \u001b[49m\u001b[43m[\u001b[49m\n\u001b[1;32m     11\u001b[0m \u001b[43m        \u001b[49m\u001b[43m{\u001b[49m\u001b[38;5;124;43m\"\u001b[39;49m\u001b[38;5;124;43mtype\u001b[39;49m\u001b[38;5;124;43m\"\u001b[39;49m\u001b[43m:\u001b[49m\u001b[43m \u001b[49m\u001b[38;5;124;43m\"\u001b[39;49m\u001b[38;5;124;43mtext\u001b[39;49m\u001b[38;5;124;43m\"\u001b[39;49m\u001b[43m,\u001b[49m\u001b[43m \u001b[49m\u001b[38;5;124;43m\"\u001b[39;49m\u001b[38;5;124;43mtext\u001b[39;49m\u001b[38;5;124;43m\"\u001b[39;49m\u001b[43m:\u001b[49m\u001b[43m \u001b[49m\u001b[38;5;124;43m\"\u001b[39;49m\u001b[38;5;124;43mCritique the diagram. Identify any flaws and provide detailed feedback. Focus on scientific accuracy and visual clarity.\u001b[39;49m\u001b[38;5;124;43m\"\u001b[39;49m\u001b[43m}\u001b[49m\u001b[43m,\u001b[49m\n\u001b[1;32m     12\u001b[0m \u001b[43m        \u001b[49m\u001b[43m{\u001b[49m\n\u001b[1;32m     13\u001b[0m \u001b[43m          \u001b[49m\u001b[38;5;124;43m\"\u001b[39;49m\u001b[38;5;124;43mtype\u001b[39;49m\u001b[38;5;124;43m\"\u001b[39;49m\u001b[43m:\u001b[49m\u001b[43m \u001b[49m\u001b[38;5;124;43m\"\u001b[39;49m\u001b[38;5;124;43mimage_url\u001b[39;49m\u001b[38;5;124;43m\"\u001b[39;49m\u001b[43m,\u001b[49m\n\u001b[1;32m     14\u001b[0m \u001b[43m          \u001b[49m\u001b[38;5;124;43m\"\u001b[39;49m\u001b[38;5;124;43mimage_url\u001b[39;49m\u001b[38;5;124;43m\"\u001b[39;49m\u001b[43m:\u001b[49m\u001b[43m \u001b[49m\u001b[43m{\u001b[49m\n\u001b[1;32m     15\u001b[0m \u001b[43m            \u001b[49m\u001b[38;5;124;43m\"\u001b[39;49m\u001b[38;5;124;43murl\u001b[39;49m\u001b[38;5;124;43m\"\u001b[39;49m\u001b[43m:\u001b[49m\u001b[43m \u001b[49m\u001b[38;5;124;43mf\u001b[39;49m\u001b[38;5;124;43m\"\u001b[39;49m\u001b[38;5;132;43;01m{\u001b[39;49;00m\u001b[43mlink\u001b[49m\u001b[38;5;132;43;01m}\u001b[39;49;00m\u001b[38;5;124;43m\"\u001b[39;49m\u001b[43m,\u001b[49m\n\u001b[1;32m     16\u001b[0m \u001b[43m          \u001b[49m\u001b[43m}\u001b[49m\u001b[43m,\u001b[49m\n\u001b[1;32m     17\u001b[0m \u001b[43m        \u001b[49m\u001b[43m}\u001b[49m\u001b[43m,\u001b[49m\n\u001b[1;32m     18\u001b[0m \u001b[43m      \u001b[49m\u001b[43m]\u001b[49m\u001b[43m,\u001b[49m\n\u001b[1;32m     19\u001b[0m \u001b[43m    \u001b[49m\u001b[43m}\u001b[49m\n\u001b[1;32m     20\u001b[0m \u001b[43m  \u001b[49m\u001b[43m]\u001b[49m\u001b[43m,\u001b[49m\n\u001b[1;32m     21\u001b[0m \u001b[43m  \u001b[49m\u001b[43mmax_tokens\u001b[49m\u001b[38;5;241;43m=\u001b[39;49m\u001b[38;5;241;43m300\u001b[39;49m\u001b[43m,\u001b[49m\n\u001b[1;32m     22\u001b[0m \u001b[43m)\u001b[49m\n",
      "File \u001b[0;32m~/miniconda3/envs/argonk/lib/python3.12/site-packages/openai/_utils/_utils.py:274\u001b[0m, in \u001b[0;36mrequired_args.<locals>.inner.<locals>.wrapper\u001b[0;34m(*args, **kwargs)\u001b[0m\n\u001b[1;32m    272\u001b[0m             msg \u001b[38;5;241m=\u001b[39m \u001b[38;5;124mf\u001b[39m\u001b[38;5;124m\"\u001b[39m\u001b[38;5;124mMissing required argument: \u001b[39m\u001b[38;5;132;01m{\u001b[39;00mquote(missing[\u001b[38;5;241m0\u001b[39m])\u001b[38;5;132;01m}\u001b[39;00m\u001b[38;5;124m\"\u001b[39m\n\u001b[1;32m    273\u001b[0m     \u001b[38;5;28;01mraise\u001b[39;00m \u001b[38;5;167;01mTypeError\u001b[39;00m(msg)\n\u001b[0;32m--> 274\u001b[0m \u001b[38;5;28;01mreturn\u001b[39;00m \u001b[43mfunc\u001b[49m\u001b[43m(\u001b[49m\u001b[38;5;241;43m*\u001b[39;49m\u001b[43margs\u001b[49m\u001b[43m,\u001b[49m\u001b[43m \u001b[49m\u001b[38;5;241;43m*\u001b[39;49m\u001b[38;5;241;43m*\u001b[39;49m\u001b[43mkwargs\u001b[49m\u001b[43m)\u001b[49m\n",
      "File \u001b[0;32m~/miniconda3/envs/argonk/lib/python3.12/site-packages/openai/resources/chat/completions.py:815\u001b[0m, in \u001b[0;36mCompletions.create\u001b[0;34m(self, messages, model, audio, frequency_penalty, function_call, functions, logit_bias, logprobs, max_completion_tokens, max_tokens, metadata, modalities, n, parallel_tool_calls, presence_penalty, response_format, seed, service_tier, stop, store, stream, stream_options, temperature, tool_choice, tools, top_logprobs, top_p, user, extra_headers, extra_query, extra_body, timeout)\u001b[0m\n\u001b[1;32m    775\u001b[0m \u001b[38;5;129m@required_args\u001b[39m([\u001b[38;5;124m\"\u001b[39m\u001b[38;5;124mmessages\u001b[39m\u001b[38;5;124m\"\u001b[39m, \u001b[38;5;124m\"\u001b[39m\u001b[38;5;124mmodel\u001b[39m\u001b[38;5;124m\"\u001b[39m], [\u001b[38;5;124m\"\u001b[39m\u001b[38;5;124mmessages\u001b[39m\u001b[38;5;124m\"\u001b[39m, \u001b[38;5;124m\"\u001b[39m\u001b[38;5;124mmodel\u001b[39m\u001b[38;5;124m\"\u001b[39m, \u001b[38;5;124m\"\u001b[39m\u001b[38;5;124mstream\u001b[39m\u001b[38;5;124m\"\u001b[39m])\n\u001b[1;32m    776\u001b[0m \u001b[38;5;28;01mdef\u001b[39;00m \u001b[38;5;21mcreate\u001b[39m(\n\u001b[1;32m    777\u001b[0m     \u001b[38;5;28mself\u001b[39m,\n\u001b[0;32m   (...)\u001b[0m\n\u001b[1;32m    812\u001b[0m     timeout: \u001b[38;5;28mfloat\u001b[39m \u001b[38;5;241m|\u001b[39m httpx\u001b[38;5;241m.\u001b[39mTimeout \u001b[38;5;241m|\u001b[39m \u001b[38;5;28;01mNone\u001b[39;00m \u001b[38;5;241m|\u001b[39m NotGiven \u001b[38;5;241m=\u001b[39m NOT_GIVEN,\n\u001b[1;32m    813\u001b[0m ) \u001b[38;5;241m-\u001b[39m\u001b[38;5;241m>\u001b[39m ChatCompletion \u001b[38;5;241m|\u001b[39m Stream[ChatCompletionChunk]:\n\u001b[1;32m    814\u001b[0m     validate_response_format(response_format)\n\u001b[0;32m--> 815\u001b[0m     \u001b[38;5;28;01mreturn\u001b[39;00m \u001b[38;5;28;43mself\u001b[39;49m\u001b[38;5;241;43m.\u001b[39;49m\u001b[43m_post\u001b[49m\u001b[43m(\u001b[49m\n\u001b[1;32m    816\u001b[0m \u001b[43m        \u001b[49m\u001b[38;5;124;43m\"\u001b[39;49m\u001b[38;5;124;43m/chat/completions\u001b[39;49m\u001b[38;5;124;43m\"\u001b[39;49m\u001b[43m,\u001b[49m\n\u001b[1;32m    817\u001b[0m \u001b[43m        \u001b[49m\u001b[43mbody\u001b[49m\u001b[38;5;241;43m=\u001b[39;49m\u001b[43mmaybe_transform\u001b[49m\u001b[43m(\u001b[49m\n\u001b[1;32m    818\u001b[0m \u001b[43m            \u001b[49m\u001b[43m{\u001b[49m\n\u001b[1;32m    819\u001b[0m \u001b[43m                \u001b[49m\u001b[38;5;124;43m\"\u001b[39;49m\u001b[38;5;124;43mmessages\u001b[39;49m\u001b[38;5;124;43m\"\u001b[39;49m\u001b[43m:\u001b[49m\u001b[43m \u001b[49m\u001b[43mmessages\u001b[49m\u001b[43m,\u001b[49m\n\u001b[1;32m    820\u001b[0m \u001b[43m                \u001b[49m\u001b[38;5;124;43m\"\u001b[39;49m\u001b[38;5;124;43mmodel\u001b[39;49m\u001b[38;5;124;43m\"\u001b[39;49m\u001b[43m:\u001b[49m\u001b[43m \u001b[49m\u001b[43mmodel\u001b[49m\u001b[43m,\u001b[49m\n\u001b[1;32m    821\u001b[0m \u001b[43m                \u001b[49m\u001b[38;5;124;43m\"\u001b[39;49m\u001b[38;5;124;43maudio\u001b[39;49m\u001b[38;5;124;43m\"\u001b[39;49m\u001b[43m:\u001b[49m\u001b[43m \u001b[49m\u001b[43maudio\u001b[49m\u001b[43m,\u001b[49m\n\u001b[1;32m    822\u001b[0m \u001b[43m                \u001b[49m\u001b[38;5;124;43m\"\u001b[39;49m\u001b[38;5;124;43mfrequency_penalty\u001b[39;49m\u001b[38;5;124;43m\"\u001b[39;49m\u001b[43m:\u001b[49m\u001b[43m \u001b[49m\u001b[43mfrequency_penalty\u001b[49m\u001b[43m,\u001b[49m\n\u001b[1;32m    823\u001b[0m \u001b[43m                \u001b[49m\u001b[38;5;124;43m\"\u001b[39;49m\u001b[38;5;124;43mfunction_call\u001b[39;49m\u001b[38;5;124;43m\"\u001b[39;49m\u001b[43m:\u001b[49m\u001b[43m \u001b[49m\u001b[43mfunction_call\u001b[49m\u001b[43m,\u001b[49m\n\u001b[1;32m    824\u001b[0m \u001b[43m                \u001b[49m\u001b[38;5;124;43m\"\u001b[39;49m\u001b[38;5;124;43mfunctions\u001b[39;49m\u001b[38;5;124;43m\"\u001b[39;49m\u001b[43m:\u001b[49m\u001b[43m \u001b[49m\u001b[43mfunctions\u001b[49m\u001b[43m,\u001b[49m\n\u001b[1;32m    825\u001b[0m \u001b[43m                \u001b[49m\u001b[38;5;124;43m\"\u001b[39;49m\u001b[38;5;124;43mlogit_bias\u001b[39;49m\u001b[38;5;124;43m\"\u001b[39;49m\u001b[43m:\u001b[49m\u001b[43m \u001b[49m\u001b[43mlogit_bias\u001b[49m\u001b[43m,\u001b[49m\n\u001b[1;32m    826\u001b[0m \u001b[43m                \u001b[49m\u001b[38;5;124;43m\"\u001b[39;49m\u001b[38;5;124;43mlogprobs\u001b[39;49m\u001b[38;5;124;43m\"\u001b[39;49m\u001b[43m:\u001b[49m\u001b[43m \u001b[49m\u001b[43mlogprobs\u001b[49m\u001b[43m,\u001b[49m\n\u001b[1;32m    827\u001b[0m \u001b[43m                \u001b[49m\u001b[38;5;124;43m\"\u001b[39;49m\u001b[38;5;124;43mmax_completion_tokens\u001b[39;49m\u001b[38;5;124;43m\"\u001b[39;49m\u001b[43m:\u001b[49m\u001b[43m \u001b[49m\u001b[43mmax_completion_tokens\u001b[49m\u001b[43m,\u001b[49m\n\u001b[1;32m    828\u001b[0m \u001b[43m                \u001b[49m\u001b[38;5;124;43m\"\u001b[39;49m\u001b[38;5;124;43mmax_tokens\u001b[39;49m\u001b[38;5;124;43m\"\u001b[39;49m\u001b[43m:\u001b[49m\u001b[43m \u001b[49m\u001b[43mmax_tokens\u001b[49m\u001b[43m,\u001b[49m\n\u001b[1;32m    829\u001b[0m \u001b[43m                \u001b[49m\u001b[38;5;124;43m\"\u001b[39;49m\u001b[38;5;124;43mmetadata\u001b[39;49m\u001b[38;5;124;43m\"\u001b[39;49m\u001b[43m:\u001b[49m\u001b[43m \u001b[49m\u001b[43mmetadata\u001b[49m\u001b[43m,\u001b[49m\n\u001b[1;32m    830\u001b[0m \u001b[43m                \u001b[49m\u001b[38;5;124;43m\"\u001b[39;49m\u001b[38;5;124;43mmodalities\u001b[39;49m\u001b[38;5;124;43m\"\u001b[39;49m\u001b[43m:\u001b[49m\u001b[43m \u001b[49m\u001b[43mmodalities\u001b[49m\u001b[43m,\u001b[49m\n\u001b[1;32m    831\u001b[0m \u001b[43m                \u001b[49m\u001b[38;5;124;43m\"\u001b[39;49m\u001b[38;5;124;43mn\u001b[39;49m\u001b[38;5;124;43m\"\u001b[39;49m\u001b[43m:\u001b[49m\u001b[43m \u001b[49m\u001b[43mn\u001b[49m\u001b[43m,\u001b[49m\n\u001b[1;32m    832\u001b[0m \u001b[43m                \u001b[49m\u001b[38;5;124;43m\"\u001b[39;49m\u001b[38;5;124;43mparallel_tool_calls\u001b[39;49m\u001b[38;5;124;43m\"\u001b[39;49m\u001b[43m:\u001b[49m\u001b[43m \u001b[49m\u001b[43mparallel_tool_calls\u001b[49m\u001b[43m,\u001b[49m\n\u001b[1;32m    833\u001b[0m \u001b[43m                \u001b[49m\u001b[38;5;124;43m\"\u001b[39;49m\u001b[38;5;124;43mpresence_penalty\u001b[39;49m\u001b[38;5;124;43m\"\u001b[39;49m\u001b[43m:\u001b[49m\u001b[43m \u001b[49m\u001b[43mpresence_penalty\u001b[49m\u001b[43m,\u001b[49m\n\u001b[1;32m    834\u001b[0m \u001b[43m                \u001b[49m\u001b[38;5;124;43m\"\u001b[39;49m\u001b[38;5;124;43mresponse_format\u001b[39;49m\u001b[38;5;124;43m\"\u001b[39;49m\u001b[43m:\u001b[49m\u001b[43m \u001b[49m\u001b[43mresponse_format\u001b[49m\u001b[43m,\u001b[49m\n\u001b[1;32m    835\u001b[0m \u001b[43m                \u001b[49m\u001b[38;5;124;43m\"\u001b[39;49m\u001b[38;5;124;43mseed\u001b[39;49m\u001b[38;5;124;43m\"\u001b[39;49m\u001b[43m:\u001b[49m\u001b[43m \u001b[49m\u001b[43mseed\u001b[49m\u001b[43m,\u001b[49m\n\u001b[1;32m    836\u001b[0m \u001b[43m                \u001b[49m\u001b[38;5;124;43m\"\u001b[39;49m\u001b[38;5;124;43mservice_tier\u001b[39;49m\u001b[38;5;124;43m\"\u001b[39;49m\u001b[43m:\u001b[49m\u001b[43m \u001b[49m\u001b[43mservice_tier\u001b[49m\u001b[43m,\u001b[49m\n\u001b[1;32m    837\u001b[0m \u001b[43m                \u001b[49m\u001b[38;5;124;43m\"\u001b[39;49m\u001b[38;5;124;43mstop\u001b[39;49m\u001b[38;5;124;43m\"\u001b[39;49m\u001b[43m:\u001b[49m\u001b[43m \u001b[49m\u001b[43mstop\u001b[49m\u001b[43m,\u001b[49m\n\u001b[1;32m    838\u001b[0m \u001b[43m                \u001b[49m\u001b[38;5;124;43m\"\u001b[39;49m\u001b[38;5;124;43mstore\u001b[39;49m\u001b[38;5;124;43m\"\u001b[39;49m\u001b[43m:\u001b[49m\u001b[43m \u001b[49m\u001b[43mstore\u001b[49m\u001b[43m,\u001b[49m\n\u001b[1;32m    839\u001b[0m \u001b[43m                \u001b[49m\u001b[38;5;124;43m\"\u001b[39;49m\u001b[38;5;124;43mstream\u001b[39;49m\u001b[38;5;124;43m\"\u001b[39;49m\u001b[43m:\u001b[49m\u001b[43m \u001b[49m\u001b[43mstream\u001b[49m\u001b[43m,\u001b[49m\n\u001b[1;32m    840\u001b[0m \u001b[43m                \u001b[49m\u001b[38;5;124;43m\"\u001b[39;49m\u001b[38;5;124;43mstream_options\u001b[39;49m\u001b[38;5;124;43m\"\u001b[39;49m\u001b[43m:\u001b[49m\u001b[43m \u001b[49m\u001b[43mstream_options\u001b[49m\u001b[43m,\u001b[49m\n\u001b[1;32m    841\u001b[0m \u001b[43m                \u001b[49m\u001b[38;5;124;43m\"\u001b[39;49m\u001b[38;5;124;43mtemperature\u001b[39;49m\u001b[38;5;124;43m\"\u001b[39;49m\u001b[43m:\u001b[49m\u001b[43m \u001b[49m\u001b[43mtemperature\u001b[49m\u001b[43m,\u001b[49m\n\u001b[1;32m    842\u001b[0m \u001b[43m                \u001b[49m\u001b[38;5;124;43m\"\u001b[39;49m\u001b[38;5;124;43mtool_choice\u001b[39;49m\u001b[38;5;124;43m\"\u001b[39;49m\u001b[43m:\u001b[49m\u001b[43m \u001b[49m\u001b[43mtool_choice\u001b[49m\u001b[43m,\u001b[49m\n\u001b[1;32m    843\u001b[0m \u001b[43m                \u001b[49m\u001b[38;5;124;43m\"\u001b[39;49m\u001b[38;5;124;43mtools\u001b[39;49m\u001b[38;5;124;43m\"\u001b[39;49m\u001b[43m:\u001b[49m\u001b[43m \u001b[49m\u001b[43mtools\u001b[49m\u001b[43m,\u001b[49m\n\u001b[1;32m    844\u001b[0m \u001b[43m                \u001b[49m\u001b[38;5;124;43m\"\u001b[39;49m\u001b[38;5;124;43mtop_logprobs\u001b[39;49m\u001b[38;5;124;43m\"\u001b[39;49m\u001b[43m:\u001b[49m\u001b[43m \u001b[49m\u001b[43mtop_logprobs\u001b[49m\u001b[43m,\u001b[49m\n\u001b[1;32m    845\u001b[0m \u001b[43m                \u001b[49m\u001b[38;5;124;43m\"\u001b[39;49m\u001b[38;5;124;43mtop_p\u001b[39;49m\u001b[38;5;124;43m\"\u001b[39;49m\u001b[43m:\u001b[49m\u001b[43m \u001b[49m\u001b[43mtop_p\u001b[49m\u001b[43m,\u001b[49m\n\u001b[1;32m    846\u001b[0m \u001b[43m                \u001b[49m\u001b[38;5;124;43m\"\u001b[39;49m\u001b[38;5;124;43muser\u001b[39;49m\u001b[38;5;124;43m\"\u001b[39;49m\u001b[43m:\u001b[49m\u001b[43m \u001b[49m\u001b[43muser\u001b[49m\u001b[43m,\u001b[49m\n\u001b[1;32m    847\u001b[0m \u001b[43m            \u001b[49m\u001b[43m}\u001b[49m\u001b[43m,\u001b[49m\n\u001b[1;32m    848\u001b[0m \u001b[43m            \u001b[49m\u001b[43mcompletion_create_params\u001b[49m\u001b[38;5;241;43m.\u001b[39;49m\u001b[43mCompletionCreateParams\u001b[49m\u001b[43m,\u001b[49m\n\u001b[1;32m    849\u001b[0m \u001b[43m        \u001b[49m\u001b[43m)\u001b[49m\u001b[43m,\u001b[49m\n\u001b[1;32m    850\u001b[0m \u001b[43m        \u001b[49m\u001b[43moptions\u001b[49m\u001b[38;5;241;43m=\u001b[39;49m\u001b[43mmake_request_options\u001b[49m\u001b[43m(\u001b[49m\n\u001b[1;32m    851\u001b[0m \u001b[43m            \u001b[49m\u001b[43mextra_headers\u001b[49m\u001b[38;5;241;43m=\u001b[39;49m\u001b[43mextra_headers\u001b[49m\u001b[43m,\u001b[49m\u001b[43m \u001b[49m\u001b[43mextra_query\u001b[49m\u001b[38;5;241;43m=\u001b[39;49m\u001b[43mextra_query\u001b[49m\u001b[43m,\u001b[49m\u001b[43m \u001b[49m\u001b[43mextra_body\u001b[49m\u001b[38;5;241;43m=\u001b[39;49m\u001b[43mextra_body\u001b[49m\u001b[43m,\u001b[49m\u001b[43m \u001b[49m\u001b[43mtimeout\u001b[49m\u001b[38;5;241;43m=\u001b[39;49m\u001b[43mtimeout\u001b[49m\n\u001b[1;32m    852\u001b[0m \u001b[43m        \u001b[49m\u001b[43m)\u001b[49m\u001b[43m,\u001b[49m\n\u001b[1;32m    853\u001b[0m \u001b[43m        \u001b[49m\u001b[43mcast_to\u001b[49m\u001b[38;5;241;43m=\u001b[39;49m\u001b[43mChatCompletion\u001b[49m\u001b[43m,\u001b[49m\n\u001b[1;32m    854\u001b[0m \u001b[43m        \u001b[49m\u001b[43mstream\u001b[49m\u001b[38;5;241;43m=\u001b[39;49m\u001b[43mstream\u001b[49m\u001b[43m \u001b[49m\u001b[38;5;129;43;01mor\u001b[39;49;00m\u001b[43m \u001b[49m\u001b[38;5;28;43;01mFalse\u001b[39;49;00m\u001b[43m,\u001b[49m\n\u001b[1;32m    855\u001b[0m \u001b[43m        \u001b[49m\u001b[43mstream_cls\u001b[49m\u001b[38;5;241;43m=\u001b[39;49m\u001b[43mStream\u001b[49m\u001b[43m[\u001b[49m\u001b[43mChatCompletionChunk\u001b[49m\u001b[43m]\u001b[49m\u001b[43m,\u001b[49m\n\u001b[1;32m    856\u001b[0m \u001b[43m    \u001b[49m\u001b[43m)\u001b[49m\n",
      "File \u001b[0;32m~/miniconda3/envs/argonk/lib/python3.12/site-packages/openai/_base_client.py:1277\u001b[0m, in \u001b[0;36mSyncAPIClient.post\u001b[0;34m(self, path, cast_to, body, options, files, stream, stream_cls)\u001b[0m\n\u001b[1;32m   1263\u001b[0m \u001b[38;5;28;01mdef\u001b[39;00m \u001b[38;5;21mpost\u001b[39m(\n\u001b[1;32m   1264\u001b[0m     \u001b[38;5;28mself\u001b[39m,\n\u001b[1;32m   1265\u001b[0m     path: \u001b[38;5;28mstr\u001b[39m,\n\u001b[0;32m   (...)\u001b[0m\n\u001b[1;32m   1272\u001b[0m     stream_cls: \u001b[38;5;28mtype\u001b[39m[_StreamT] \u001b[38;5;241m|\u001b[39m \u001b[38;5;28;01mNone\u001b[39;00m \u001b[38;5;241m=\u001b[39m \u001b[38;5;28;01mNone\u001b[39;00m,\n\u001b[1;32m   1273\u001b[0m ) \u001b[38;5;241m-\u001b[39m\u001b[38;5;241m>\u001b[39m ResponseT \u001b[38;5;241m|\u001b[39m _StreamT:\n\u001b[1;32m   1274\u001b[0m     opts \u001b[38;5;241m=\u001b[39m FinalRequestOptions\u001b[38;5;241m.\u001b[39mconstruct(\n\u001b[1;32m   1275\u001b[0m         method\u001b[38;5;241m=\u001b[39m\u001b[38;5;124m\"\u001b[39m\u001b[38;5;124mpost\u001b[39m\u001b[38;5;124m\"\u001b[39m, url\u001b[38;5;241m=\u001b[39mpath, json_data\u001b[38;5;241m=\u001b[39mbody, files\u001b[38;5;241m=\u001b[39mto_httpx_files(files), \u001b[38;5;241m*\u001b[39m\u001b[38;5;241m*\u001b[39moptions\n\u001b[1;32m   1276\u001b[0m     )\n\u001b[0;32m-> 1277\u001b[0m     \u001b[38;5;28;01mreturn\u001b[39;00m cast(ResponseT, \u001b[38;5;28;43mself\u001b[39;49m\u001b[38;5;241;43m.\u001b[39;49m\u001b[43mrequest\u001b[49m\u001b[43m(\u001b[49m\u001b[43mcast_to\u001b[49m\u001b[43m,\u001b[49m\u001b[43m \u001b[49m\u001b[43mopts\u001b[49m\u001b[43m,\u001b[49m\u001b[43m \u001b[49m\u001b[43mstream\u001b[49m\u001b[38;5;241;43m=\u001b[39;49m\u001b[43mstream\u001b[49m\u001b[43m,\u001b[49m\u001b[43m \u001b[49m\u001b[43mstream_cls\u001b[49m\u001b[38;5;241;43m=\u001b[39;49m\u001b[43mstream_cls\u001b[49m\u001b[43m)\u001b[49m)\n",
      "File \u001b[0;32m~/miniconda3/envs/argonk/lib/python3.12/site-packages/openai/_base_client.py:954\u001b[0m, in \u001b[0;36mSyncAPIClient.request\u001b[0;34m(self, cast_to, options, remaining_retries, stream, stream_cls)\u001b[0m\n\u001b[1;32m    951\u001b[0m \u001b[38;5;28;01melse\u001b[39;00m:\n\u001b[1;32m    952\u001b[0m     retries_taken \u001b[38;5;241m=\u001b[39m \u001b[38;5;241m0\u001b[39m\n\u001b[0;32m--> 954\u001b[0m \u001b[38;5;28;01mreturn\u001b[39;00m \u001b[38;5;28;43mself\u001b[39;49m\u001b[38;5;241;43m.\u001b[39;49m\u001b[43m_request\u001b[49m\u001b[43m(\u001b[49m\n\u001b[1;32m    955\u001b[0m \u001b[43m    \u001b[49m\u001b[43mcast_to\u001b[49m\u001b[38;5;241;43m=\u001b[39;49m\u001b[43mcast_to\u001b[49m\u001b[43m,\u001b[49m\n\u001b[1;32m    956\u001b[0m \u001b[43m    \u001b[49m\u001b[43moptions\u001b[49m\u001b[38;5;241;43m=\u001b[39;49m\u001b[43moptions\u001b[49m\u001b[43m,\u001b[49m\n\u001b[1;32m    957\u001b[0m \u001b[43m    \u001b[49m\u001b[43mstream\u001b[49m\u001b[38;5;241;43m=\u001b[39;49m\u001b[43mstream\u001b[49m\u001b[43m,\u001b[49m\n\u001b[1;32m    958\u001b[0m \u001b[43m    \u001b[49m\u001b[43mstream_cls\u001b[49m\u001b[38;5;241;43m=\u001b[39;49m\u001b[43mstream_cls\u001b[49m\u001b[43m,\u001b[49m\n\u001b[1;32m    959\u001b[0m \u001b[43m    \u001b[49m\u001b[43mretries_taken\u001b[49m\u001b[38;5;241;43m=\u001b[39;49m\u001b[43mretries_taken\u001b[49m\u001b[43m,\u001b[49m\n\u001b[1;32m    960\u001b[0m \u001b[43m\u001b[49m\u001b[43m)\u001b[49m\n",
      "File \u001b[0;32m~/miniconda3/envs/argonk/lib/python3.12/site-packages/openai/_base_client.py:1058\u001b[0m, in \u001b[0;36mSyncAPIClient._request\u001b[0;34m(self, cast_to, options, retries_taken, stream, stream_cls)\u001b[0m\n\u001b[1;32m   1055\u001b[0m         err\u001b[38;5;241m.\u001b[39mresponse\u001b[38;5;241m.\u001b[39mread()\n\u001b[1;32m   1057\u001b[0m     log\u001b[38;5;241m.\u001b[39mdebug(\u001b[38;5;124m\"\u001b[39m\u001b[38;5;124mRe-raising status error\u001b[39m\u001b[38;5;124m\"\u001b[39m)\n\u001b[0;32m-> 1058\u001b[0m     \u001b[38;5;28;01mraise\u001b[39;00m \u001b[38;5;28mself\u001b[39m\u001b[38;5;241m.\u001b[39m_make_status_error_from_response(err\u001b[38;5;241m.\u001b[39mresponse) \u001b[38;5;28;01mfrom\u001b[39;00m \u001b[38;5;28;01mNone\u001b[39;00m\n\u001b[1;32m   1060\u001b[0m \u001b[38;5;28;01mreturn\u001b[39;00m \u001b[38;5;28mself\u001b[39m\u001b[38;5;241m.\u001b[39m_process_response(\n\u001b[1;32m   1061\u001b[0m     cast_to\u001b[38;5;241m=\u001b[39mcast_to,\n\u001b[1;32m   1062\u001b[0m     options\u001b[38;5;241m=\u001b[39moptions,\n\u001b[0;32m   (...)\u001b[0m\n\u001b[1;32m   1066\u001b[0m     retries_taken\u001b[38;5;241m=\u001b[39mretries_taken,\n\u001b[1;32m   1067\u001b[0m )\n",
      "\u001b[0;31mBadRequestError\u001b[0m: Error code: 400 - {'error': {'message': \"You uploaded an unsupported image. Please make sure your image has of one the following formats: ['png', 'jpeg', 'gif', 'webp'].\", 'type': 'invalid_request_error', 'param': None, 'code': 'invalid_image_format'}}"
     ]
    }
   ],
   "source": [
    "from openai import OpenAI\n",
    "\n",
    "client = OpenAI()\n",
    "\n",
    "response = client.chat.completions.create(\n",
    "  model=\"gpt-4o-mini\",\n",
    "  messages=[\n",
    "    {\n",
    "      \"role\": \"user\",\n",
    "      \"content\": [\n",
    "        {\"type\": \"text\", \"text\": \"Critique the diagram. Identify any flaws and provide detailed feedback. Focus on scientific accuracy and visual clarity.\"},\n",
    "        {\n",
    "          \"type\": \"image_url\",\n",
    "          \"image_url\": {\n",
    "            \"url\": f\"{link}\",\n",
    "          },\n",
    "        },\n",
    "      ],\n",
    "    }\n",
    "  ],\n",
    "  max_tokens=300,\n",
    ")"
   ]
  },
  {
   "cell_type": "markdown",
   "metadata": {},
   "source": [
    "Above code doesn't work, try using Open AI's own example from their docs page"
   ]
  },
  {
   "cell_type": "code",
   "execution_count": 12,
   "metadata": {},
   "outputs": [
    {
     "name": "stdout",
     "output_type": "stream",
     "text": [
      "Choice(finish_reason='stop', index=0, logprobs=None, message=ChatCompletionMessage(content='The image depicts a serene landscape featuring a wooden pathway leading through a lush green marsh or field. The pathway is bordered by tall grasses and small bushes, extending into a horizon dotted with trees. The sky is bright and partly cloudy, creating a peaceful atmosphere. This scene suggests an outdoor natural setting, likely ideal for walking or exploring nature.', refusal=None, role='assistant', audio=None, function_call=None, tool_calls=None))\n"
     ]
    }
   ],
   "source": [
    "from openai import OpenAI\n",
    "\n",
    "client = OpenAI()\n",
    "\n",
    "response = client.chat.completions.create(\n",
    "  model=\"gpt-4o-mini\",\n",
    "  messages=[\n",
    "    {\n",
    "      \"role\": \"user\",\n",
    "      \"content\": [\n",
    "        {\"type\": \"text\", \"text\": \"What’s in this image?\"},\n",
    "        {\n",
    "          \"type\": \"image_url\",\n",
    "          \"image_url\": {\n",
    "            \"url\": \"https://upload.wikimedia.org/wikipedia/commons/thumb/d/dd/Gfp-wisconsin-madison-the-nature-boardwalk.jpg/2560px-Gfp-wisconsin-madison-the-nature-boardwalk.jpg\",\n",
    "          },\n",
    "        },\n",
    "      ],\n",
    "    }\n",
    "  ],\n",
    "  max_tokens=300,\n",
    ")\n",
    "\n",
    "print(response.choices[0])"
   ]
  },
  {
   "cell_type": "markdown",
   "metadata": {},
   "source": [
    "Above OpenAI example works. Let's try validating the code"
   ]
  },
  {
   "cell_type": "code",
   "execution_count": 14,
   "metadata": {},
   "outputs": [
    {
     "name": "stdout",
     "output_type": "stream",
     "text": [
      "Status Code: 302\n",
      "Content Type: text/html; charset=utf-8\n",
      "Headers: {'Server': 'nginx/1.27.1', 'Date': 'Mon, 04 Nov 2024 01:03:19 GMT', 'Content-Type': 'text/html; charset=utf-8', 'Connection': 'keep-alive', 'Access-Control-Allow-Headers': 'Accept, Accept-Language, Content-Language, Content-Type, Content-Length, Range, Authorization', 'Access-Control-Allow-Methods': 'POST, GET, OPTIONS, PUT, DELETE', 'Access-Control-Allow-Origin': '*', 'Access-Control-Expose-Headers': 'Cache-Control, Content-Encoding, Content-Range', 'Location': 'https://gofile.io/d/c1e733f1-460b-43f5-9bdb-ce2a4164e906'}\n",
      "\n",
      "Is valid image URL: False\n"
     ]
    }
   ],
   "source": [
    "import requests\n",
    "\n",
    "def validate_image_url(url):\n",
    "    try:\n",
    "        response = requests.head(url)\n",
    "        print(f\"Status Code: {response.status_code}\")\n",
    "        print(f\"Content Type: {response.headers.get('content-type', 'Not specified')}\")\n",
    "        print(f\"Headers: {dict(response.headers)}\")\n",
    "        return response.status_code == 200 and 'image' in response.headers.get('content-type', '')\n",
    "    except Exception as e:\n",
    "        print(f\"Error accessing URL: {e}\")\n",
    "        return False\n",
    "\n",
    "# Test URL\n",
    "url = \"https://store6.gofile.io/download/web/e15c0599-6c60-4a0d-b559-bb49b60bf5a2/airfoil_lift_diagram.png\"\n",
    "is_valid = validate_image_url(url)\n",
    "print(f\"\\nIs valid image URL: {is_valid}\")"
   ]
  },
  {
   "cell_type": "markdown",
   "metadata": {},
   "source": [
    "Analysis\n",
    "The output shows that:\n",
    "\n",
    "We get a 302 (redirect) status code\n",
    "Content-Type is text/html, not an image\n",
    "The URL redirects to a download page, not direct image\n",
    "Plan\n",
    "Follow redirects to get final URL\n",
    "Add User-Agent header to mimic browser\n",
    "Use GET instead of HEAD to fully resolve redirects"
   ]
  },
  {
   "cell_type": "code",
   "execution_count": 15,
   "metadata": {},
   "outputs": [
    {
     "name": "stdout",
     "output_type": "stream",
     "text": [
      "Initial URL: https://store6.gofile.io/download/web/e15c0599-6c60-4a0d-b559-bb49b60bf5a2/airfoil_lift_diagram.png\n",
      "Final URL: https://gofile.io/d/c1e733f1-460b-43f5-9bdb-ce2a4164e906\n",
      "Status Code: 200\n",
      "Content Type: text/html; charset=UTF-8\n",
      "Headers: {'Server': 'nginx/1.27.2', 'Date': 'Mon, 04 Nov 2024 01:05:07 GMT', 'Content-Type': 'text/html; charset=UTF-8', 'Transfer-Encoding': 'chunked', 'Connection': 'keep-alive', 'X-DNS-Prefetch-Control': 'off', 'Expect-CT': 'max-age=0', 'X-Frame-Options': 'SAMEORIGIN', 'Strict-Transport-Security': 'max-age=15552000; includeSubDomains', 'X-Download-Options': 'noopen', 'X-Content-Type-Options': 'nosniff', 'Origin-Agent-Cluster': '?1', 'X-Permitted-Cross-Domain-Policies': 'none', 'Referrer-Policy': 'origin', 'X-XSS-Protection': '0', 'Cache-Control': 'public, max-age=0', 'Last-Modified': 'Thu, 24 Oct 2024 23:34:24 GMT', 'ETag': 'W/\"27a7-192c0e19d3d\"', 'Content-Encoding': 'gzip'}\n",
      "\n",
      "Is valid image URL: False\n"
     ]
    }
   ],
   "source": [
    "def validate_image_url(url):\n",
    "    headers = {\n",
    "        'User-Agent': 'Mozilla/5.0 (X11; Linux x86_64) AppleWebKit/537.36 (KHTML, like Gecko) Chrome/91.0.4472.124 Safari/537.36'\n",
    "    }\n",
    "    try:\n",
    "        # Use GET and allow redirects\n",
    "        response = requests.get(url, headers=headers, allow_redirects=True)\n",
    "        final_url = response.url\n",
    "        print(f\"Initial URL: {url}\")\n",
    "        print(f\"Final URL: {final_url}\")\n",
    "        print(f\"Status Code: {response.status_code}\")\n",
    "        print(f\"Content Type: {response.headers.get('content-type', 'Not specified')}\")\n",
    "        print(f\"Headers: {dict(response.headers)}\")\n",
    "        return response.status_code == 200 and 'image' in response.headers.get('content-type', '')\n",
    "    except Exception as e:\n",
    "        print(f\"Error accessing URL: {e}\")\n",
    "        return False\n",
    "\n",
    "# Test URL\n",
    "url = \"https://store6.gofile.io/download/web/e15c0599-6c60-4a0d-b559-bb49b60bf5a2/airfoil_lift_diagram.png\"\n",
    "is_valid = validate_image_url(url)\n",
    "print(f\"\\nIs valid image URL: {is_valid}\")"
   ]
  },
  {
   "cell_type": "code",
   "execution_count": 16,
   "metadata": {},
   "outputs": [
    {
     "ename": "JSONDecodeError",
     "evalue": "Expecting value: line 1 column 1 (char 0)",
     "output_type": "error",
     "traceback": [
      "\u001b[0;31m---------------------------------------------------------------------------\u001b[0m",
      "\u001b[0;31mJSONDecodeError\u001b[0m                           Traceback (most recent call last)",
      "File \u001b[0;32m~/miniconda3/envs/argonk/lib/python3.12/site-packages/requests/models.py:974\u001b[0m, in \u001b[0;36mResponse.json\u001b[0;34m(self, **kwargs)\u001b[0m\n\u001b[1;32m    973\u001b[0m \u001b[38;5;28;01mtry\u001b[39;00m:\n\u001b[0;32m--> 974\u001b[0m     \u001b[38;5;28;01mreturn\u001b[39;00m \u001b[43mcomplexjson\u001b[49m\u001b[38;5;241;43m.\u001b[39;49m\u001b[43mloads\u001b[49m\u001b[43m(\u001b[49m\u001b[38;5;28;43mself\u001b[39;49m\u001b[38;5;241;43m.\u001b[39;49m\u001b[43mtext\u001b[49m\u001b[43m,\u001b[49m\u001b[43m \u001b[49m\u001b[38;5;241;43m*\u001b[39;49m\u001b[38;5;241;43m*\u001b[39;49m\u001b[43mkwargs\u001b[49m\u001b[43m)\u001b[49m\n\u001b[1;32m    975\u001b[0m \u001b[38;5;28;01mexcept\u001b[39;00m JSONDecodeError \u001b[38;5;28;01mas\u001b[39;00m e:\n\u001b[1;32m    976\u001b[0m     \u001b[38;5;66;03m# Catch JSON-related errors and raise as requests.JSONDecodeError\u001b[39;00m\n\u001b[1;32m    977\u001b[0m     \u001b[38;5;66;03m# This aliases json.JSONDecodeError and simplejson.JSONDecodeError\u001b[39;00m\n",
      "File \u001b[0;32m~/miniconda3/envs/argonk/lib/python3.12/json/__init__.py:346\u001b[0m, in \u001b[0;36mloads\u001b[0;34m(s, cls, object_hook, parse_float, parse_int, parse_constant, object_pairs_hook, **kw)\u001b[0m\n\u001b[1;32m    343\u001b[0m \u001b[38;5;28;01mif\u001b[39;00m (\u001b[38;5;28mcls\u001b[39m \u001b[38;5;129;01mis\u001b[39;00m \u001b[38;5;28;01mNone\u001b[39;00m \u001b[38;5;129;01mand\u001b[39;00m object_hook \u001b[38;5;129;01mis\u001b[39;00m \u001b[38;5;28;01mNone\u001b[39;00m \u001b[38;5;129;01mand\u001b[39;00m\n\u001b[1;32m    344\u001b[0m         parse_int \u001b[38;5;129;01mis\u001b[39;00m \u001b[38;5;28;01mNone\u001b[39;00m \u001b[38;5;129;01mand\u001b[39;00m parse_float \u001b[38;5;129;01mis\u001b[39;00m \u001b[38;5;28;01mNone\u001b[39;00m \u001b[38;5;129;01mand\u001b[39;00m\n\u001b[1;32m    345\u001b[0m         parse_constant \u001b[38;5;129;01mis\u001b[39;00m \u001b[38;5;28;01mNone\u001b[39;00m \u001b[38;5;129;01mand\u001b[39;00m object_pairs_hook \u001b[38;5;129;01mis\u001b[39;00m \u001b[38;5;28;01mNone\u001b[39;00m \u001b[38;5;129;01mand\u001b[39;00m \u001b[38;5;129;01mnot\u001b[39;00m kw):\n\u001b[0;32m--> 346\u001b[0m     \u001b[38;5;28;01mreturn\u001b[39;00m \u001b[43m_default_decoder\u001b[49m\u001b[38;5;241;43m.\u001b[39;49m\u001b[43mdecode\u001b[49m\u001b[43m(\u001b[49m\u001b[43ms\u001b[49m\u001b[43m)\u001b[49m\n\u001b[1;32m    347\u001b[0m \u001b[38;5;28;01mif\u001b[39;00m \u001b[38;5;28mcls\u001b[39m \u001b[38;5;129;01mis\u001b[39;00m \u001b[38;5;28;01mNone\u001b[39;00m:\n",
      "File \u001b[0;32m~/miniconda3/envs/argonk/lib/python3.12/json/decoder.py:337\u001b[0m, in \u001b[0;36mJSONDecoder.decode\u001b[0;34m(self, s, _w)\u001b[0m\n\u001b[1;32m    333\u001b[0m \u001b[38;5;250m\u001b[39m\u001b[38;5;124;03m\"\"\"Return the Python representation of ``s`` (a ``str`` instance\u001b[39;00m\n\u001b[1;32m    334\u001b[0m \u001b[38;5;124;03mcontaining a JSON document).\u001b[39;00m\n\u001b[1;32m    335\u001b[0m \n\u001b[1;32m    336\u001b[0m \u001b[38;5;124;03m\"\"\"\u001b[39;00m\n\u001b[0;32m--> 337\u001b[0m obj, end \u001b[38;5;241m=\u001b[39m \u001b[38;5;28;43mself\u001b[39;49m\u001b[38;5;241;43m.\u001b[39;49m\u001b[43mraw_decode\u001b[49m\u001b[43m(\u001b[49m\u001b[43ms\u001b[49m\u001b[43m,\u001b[49m\u001b[43m \u001b[49m\u001b[43midx\u001b[49m\u001b[38;5;241;43m=\u001b[39;49m\u001b[43m_w\u001b[49m\u001b[43m(\u001b[49m\u001b[43ms\u001b[49m\u001b[43m,\u001b[49m\u001b[43m \u001b[49m\u001b[38;5;241;43m0\u001b[39;49m\u001b[43m)\u001b[49m\u001b[38;5;241;43m.\u001b[39;49m\u001b[43mend\u001b[49m\u001b[43m(\u001b[49m\u001b[43m)\u001b[49m\u001b[43m)\u001b[49m\n\u001b[1;32m    338\u001b[0m end \u001b[38;5;241m=\u001b[39m _w(s, end)\u001b[38;5;241m.\u001b[39mend()\n",
      "File \u001b[0;32m~/miniconda3/envs/argonk/lib/python3.12/json/decoder.py:355\u001b[0m, in \u001b[0;36mJSONDecoder.raw_decode\u001b[0;34m(self, s, idx)\u001b[0m\n\u001b[1;32m    354\u001b[0m \u001b[38;5;28;01mexcept\u001b[39;00m \u001b[38;5;167;01mStopIteration\u001b[39;00m \u001b[38;5;28;01mas\u001b[39;00m err:\n\u001b[0;32m--> 355\u001b[0m     \u001b[38;5;28;01mraise\u001b[39;00m JSONDecodeError(\u001b[38;5;124m\"\u001b[39m\u001b[38;5;124mExpecting value\u001b[39m\u001b[38;5;124m\"\u001b[39m, s, err\u001b[38;5;241m.\u001b[39mvalue) \u001b[38;5;28;01mfrom\u001b[39;00m \u001b[38;5;28;01mNone\u001b[39;00m\n\u001b[1;32m    356\u001b[0m \u001b[38;5;28;01mreturn\u001b[39;00m obj, end\n",
      "\u001b[0;31mJSONDecodeError\u001b[0m: Expecting value: line 1 column 1 (char 0)",
      "\nDuring handling of the above exception, another exception occurred:\n",
      "\u001b[0;31mJSONDecodeError\u001b[0m                           Traceback (most recent call last)",
      "Cell \u001b[0;32mIn[16], line 37\u001b[0m\n\u001b[1;32m     35\u001b[0m \u001b[38;5;66;03m# Test\u001b[39;00m\n\u001b[1;32m     36\u001b[0m url \u001b[38;5;241m=\u001b[39m \u001b[38;5;124m\"\u001b[39m\u001b[38;5;124mhttps://store6.gofile.io/download/web/e15c0599-6c60-4a0d-b559-bb49b60bf5a2/airfoil_lift_diagram.png\u001b[39m\u001b[38;5;124m\"\u001b[39m\n\u001b[0;32m---> 37\u001b[0m direct_url \u001b[38;5;241m=\u001b[39m \u001b[43mget_gofile_direct_url\u001b[49m\u001b[43m(\u001b[49m\u001b[43murl\u001b[49m\u001b[43m)\u001b[49m\n\u001b[1;32m     38\u001b[0m \u001b[38;5;28mprint\u001b[39m(\u001b[38;5;124mf\u001b[39m\u001b[38;5;124m\"\u001b[39m\u001b[38;5;124mDirect URL: \u001b[39m\u001b[38;5;132;01m{\u001b[39;00mdirect_url\u001b[38;5;132;01m}\u001b[39;00m\u001b[38;5;124m\"\u001b[39m)\n\u001b[1;32m     40\u001b[0m \u001b[38;5;66;03m# Validate direct URL\u001b[39;00m\n",
      "Cell \u001b[0;32mIn[16], line 10\u001b[0m, in \u001b[0;36mget_gofile_direct_url\u001b[0;34m(url)\u001b[0m\n\u001b[1;32m      8\u001b[0m \u001b[38;5;66;03m# Get server status\u001b[39;00m\n\u001b[1;32m      9\u001b[0m server_response \u001b[38;5;241m=\u001b[39m requests\u001b[38;5;241m.\u001b[39mget(\u001b[38;5;124m'\u001b[39m\u001b[38;5;124mhttps://api.gofile.io/getServer\u001b[39m\u001b[38;5;124m'\u001b[39m)\n\u001b[0;32m---> 10\u001b[0m server_data \u001b[38;5;241m=\u001b[39m \u001b[43mserver_response\u001b[49m\u001b[38;5;241;43m.\u001b[39;49m\u001b[43mjson\u001b[49m\u001b[43m(\u001b[49m\u001b[43m)\u001b[49m\n\u001b[1;32m     11\u001b[0m \u001b[38;5;28;01mif\u001b[39;00m server_data[\u001b[38;5;124m'\u001b[39m\u001b[38;5;124mstatus\u001b[39m\u001b[38;5;124m'\u001b[39m] \u001b[38;5;241m!=\u001b[39m \u001b[38;5;124m'\u001b[39m\u001b[38;5;124mok\u001b[39m\u001b[38;5;124m'\u001b[39m:\n\u001b[1;32m     12\u001b[0m     \u001b[38;5;28mprint\u001b[39m(\u001b[38;5;124m\"\u001b[39m\u001b[38;5;124mFailed to get server info\u001b[39m\u001b[38;5;124m\"\u001b[39m)\n",
      "File \u001b[0;32m~/miniconda3/envs/argonk/lib/python3.12/site-packages/requests/models.py:978\u001b[0m, in \u001b[0;36mResponse.json\u001b[0;34m(self, **kwargs)\u001b[0m\n\u001b[1;32m    974\u001b[0m     \u001b[38;5;28;01mreturn\u001b[39;00m complexjson\u001b[38;5;241m.\u001b[39mloads(\u001b[38;5;28mself\u001b[39m\u001b[38;5;241m.\u001b[39mtext, \u001b[38;5;241m*\u001b[39m\u001b[38;5;241m*\u001b[39mkwargs)\n\u001b[1;32m    975\u001b[0m \u001b[38;5;28;01mexcept\u001b[39;00m JSONDecodeError \u001b[38;5;28;01mas\u001b[39;00m e:\n\u001b[1;32m    976\u001b[0m     \u001b[38;5;66;03m# Catch JSON-related errors and raise as requests.JSONDecodeError\u001b[39;00m\n\u001b[1;32m    977\u001b[0m     \u001b[38;5;66;03m# This aliases json.JSONDecodeError and simplejson.JSONDecodeError\u001b[39;00m\n\u001b[0;32m--> 978\u001b[0m     \u001b[38;5;28;01mraise\u001b[39;00m RequestsJSONDecodeError(e\u001b[38;5;241m.\u001b[39mmsg, e\u001b[38;5;241m.\u001b[39mdoc, e\u001b[38;5;241m.\u001b[39mpos)\n",
      "\u001b[0;31mJSONDecodeError\u001b[0m: Expecting value: line 1 column 1 (char 0)"
     ]
    }
   ],
   "source": [
    "import requests\n",
    "import json\n",
    "\n",
    "def get_gofile_direct_url(url):\n",
    "    # Extract file ID from URL\n",
    "    file_id = url.split('/')[-2]\n",
    "    \n",
    "    # Get server status\n",
    "    server_response = requests.get('https://api.gofile.io/getServer')\n",
    "    server_data = server_response.json()\n",
    "    if server_data['status'] != 'ok':\n",
    "        print(\"Failed to get server info\")\n",
    "        return None\n",
    "        \n",
    "    # Get best server\n",
    "    best_server = server_data['data']['server']\n",
    "    \n",
    "    # Get file info\n",
    "    file_url = f'https://{best_server}.gofile.io/getContent?contentId={file_id}'\n",
    "    headers = {\n",
    "        'User-Agent': 'Mozilla/5.0 (X11; Linux x86_64) AppleWebKit/537.36 (KHTML, like Gecko) Chrome/91.0.4472.124 Safari/537.36'\n",
    "    }\n",
    "    \n",
    "    file_response = requests.get(file_url, headers=headers)\n",
    "    file_data = file_response.json()\n",
    "    \n",
    "    if file_data['status'] != 'ok':\n",
    "        print(\"Failed to get file info\")\n",
    "        return None\n",
    "        \n",
    "    # Get direct download link\n",
    "    direct_link = file_data['data']['contents'][0]['link']\n",
    "    return direct_link\n",
    "\n",
    "# Test\n",
    "url = \"https://store6.gofile.io/download/web/e15c0599-6c60-4a0d-b559-bb49b60bf5a2/airfoil_lift_diagram.png\"\n",
    "direct_url = get_gofile_direct_url(url)\n",
    "print(f\"Direct URL: {direct_url}\")\n",
    "\n",
    "# Validate direct URL\n",
    "if direct_url:\n",
    "    is_valid = validate_image_url(direct_url)\n",
    "    print(f\"Is valid image URL: {is_valid}\")"
   ]
  },
  {
   "cell_type": "code",
   "execution_count": 17,
   "metadata": {},
   "outputs": [
    {
     "name": "stdout",
     "output_type": "stream",
     "text": [
      "Server Response Status: 404\n",
      "Server Response Content: error-notFound\n",
      "Failed to get server info - bad status code\n",
      "Direct URL: None\n"
     ]
    }
   ],
   "source": [
    "def get_gofile_direct_url(url):\n",
    "    # Extract file ID from URL\n",
    "    file_id = url.split('/')[-2]\n",
    "    \n",
    "    # Get server status with error handling\n",
    "    try:\n",
    "        server_response = requests.get('https://api.gofile.io/getServer')\n",
    "        print(f\"Server Response Status: {server_response.status_code}\")\n",
    "        print(f\"Server Response Content: {server_response.text}\")\n",
    "        \n",
    "        if server_response.status_code != 200:\n",
    "            print(\"Failed to get server info - bad status code\")\n",
    "            return None\n",
    "            \n",
    "        try:\n",
    "            server_data = server_response.json()\n",
    "        except json.JSONDecodeError as e:\n",
    "            print(f\"Failed to parse server response as JSON: {e}\")\n",
    "            print(f\"Response content: {server_response.text}\")\n",
    "            return None\n",
    "            \n",
    "        if server_data.get('status') != 'ok':\n",
    "            print(\"Failed to get server info - response not ok\")\n",
    "            return None\n",
    "            \n",
    "        # Get best server\n",
    "        best_server = server_data['data']['server']\n",
    "        \n",
    "        # Get file info\n",
    "        file_url = f'https://{best_server}.gofile.io/getContent?contentId={file_id}'\n",
    "        headers = {\n",
    "            'User-Agent': 'Mozilla/5.0 (X11; Linux x86_64) AppleWebKit/537.36 (KHTML, like Gecko) Chrome/91.0.4472.124 Safari/537.36'\n",
    "        }\n",
    "        \n",
    "        file_response = requests.get(file_url, headers=headers)\n",
    "        print(f\"File Response Status: {file_response.status_code}\")\n",
    "        print(f\"File Response Content: {file_response.text}\")\n",
    "        \n",
    "        if file_response.status_code != 200:\n",
    "            print(\"Failed to get file info - bad status code\")\n",
    "            return None\n",
    "            \n",
    "        try:\n",
    "            file_data = file_response.json()\n",
    "        except json.JSONDecodeError as e:\n",
    "            print(f\"Failed to parse file response as JSON: {e}\")\n",
    "            print(f\"Response content: {file_response.text}\")\n",
    "            return None\n",
    "            \n",
    "        if file_data.get('status') != 'ok':\n",
    "            print(\"Failed to get file info - response not ok\")\n",
    "            return None\n",
    "            \n",
    "        # Get direct download link\n",
    "        try:\n",
    "            direct_link = file_data['data']['contents'][0]['link']\n",
    "            return direct_link\n",
    "        except (KeyError, IndexError) as e:\n",
    "            print(f\"Failed to extract direct link from response: {e}\")\n",
    "            return None\n",
    "            \n",
    "    except requests.RequestException as e:\n",
    "        print(f\"Request failed: {e}\")\n",
    "        return None\n",
    "\n",
    "# Test\n",
    "url = \"https://store6.gofile.io/download/web/e15c0599-6c60-4a0d-b559-bb49b60bf5a2/airfoil_lift_diagram.png\"\n",
    "direct_url = get_gofile_direct_url(url)\n",
    "print(f\"Direct URL: {direct_url}\")\n",
    "\n",
    "if direct_url:\n",
    "    is_valid = validate_image_url(direct_url)\n",
    "    print(f\"Is valid image URL: {is_valid}\")"
   ]
  },
  {
   "cell_type": "markdown",
   "metadata": {},
   "source": [
    "Gofile does not seem to work."
   ]
  },
  {
   "cell_type": "markdown",
   "metadata": {},
   "source": [
    "Try ImgBB"
   ]
  },
  {
   "cell_type": "code",
   "execution_count": 19,
   "metadata": {},
   "outputs": [
    {
     "name": "stdout",
     "output_type": "stream",
     "text": [
      "Response status: 400\n",
      "Response content: {\"status_code\":400,\"error\":{\"message\":\"Invalid API v1 key.\",\"code\":100},\"status_txt\":\"Bad Request\"}\n",
      "Upload failed: 400 Client Error: Bad Request for url: https://api.imgbb.com/1/upload\n",
      "Direct Image URL: None\n"
     ]
    }
   ],
   "source": [
    "import requests\n",
    "import base64\n",
    "\n",
    "def upload_to_imgbb(image_path, api_key):\n",
    "    \"\"\"Upload image to ImgBB and return direct URL\"\"\"\n",
    "    try:\n",
    "        # Read and encode image\n",
    "        with open(image_path, 'rb') as file:\n",
    "            base64_image = base64.b64encode(file.read()).decode('utf-8')\n",
    "        \n",
    "        # Prepare form data\n",
    "        payload = {\n",
    "            'key': api_key,\n",
    "            'image': base64_image\n",
    "        }\n",
    "        \n",
    "        # Upload to ImgBB\n",
    "        response = requests.post(\n",
    "            'https://api.imgbb.com/1/upload',\n",
    "            data=payload  # Use data instead of json\n",
    "        )\n",
    "        \n",
    "        print(f\"Response status: {response.status_code}\")\n",
    "        print(f\"Response content: {response.text}\")\n",
    "        \n",
    "        response.raise_for_status()\n",
    "        json_data = response.json()\n",
    "        \n",
    "        if json_data['success']:\n",
    "            return json_data['data']['display_url']  # Use display_url for direct image link\n",
    "            \n",
    "    except Exception as e:\n",
    "        print(f\"Upload failed: {e}\")\n",
    "    return None\n",
    "\n",
    "def get_direct_image_url(image_path):\n",
    "    \"\"\"Get direct image URL that works with OpenAI API\"\"\"\n",
    "    API_KEY = 'YOUR_IMGBB_API_KEY'  # Replace with actual key\n",
    "    \n",
    "    direct_url = upload_to_imgbb(image_path, API_KEY)\n",
    "    if direct_url:\n",
    "        print(f\"Image uploaded successfully: {direct_url}\")\n",
    "        return direct_url\n",
    "    return None\n",
    "\n",
    "# Test\n",
    "image_path = 'diagrams_v3/airfoil_lift_diagram.png'\n",
    "direct_url = get_direct_image_url(image_path)\n",
    "print(f\"Direct Image URL: {direct_url}\")"
   ]
  },
  {
   "cell_type": "markdown",
   "metadata": {},
   "source": [
    "Try Imgur"
   ]
  },
  {
   "cell_type": "code",
   "execution_count": 20,
   "metadata": {},
   "outputs": [
    {
     "name": "stdout",
     "output_type": "stream",
     "text": [
      "Imgur Client ID: 409b680eef14172\n"
     ]
    }
   ],
   "source": [
    "from dotenv import load_dotenv\n",
    "import os\n",
    "\n",
    "# Load environment variables from a .env file\n",
    "load_dotenv()\n",
    "\n",
    "# Create variables for Imgur client ID\n",
    "IMGUR_CLIENT_ID = os.getenv('IMGUR_CLIENT_ID')\n",
    "\n",
    "# Print to verify\n",
    "print(f\"Imgur Client ID: {IMGUR_CLIENT_ID}\")"
   ]
  },
  {
   "cell_type": "code",
   "execution_count": 21,
   "metadata": {},
   "outputs": [
    {
     "name": "stdout",
     "output_type": "stream",
     "text": [
      "Image uploaded successfully: https://i.imgur.com/RTFPDKV.png\n",
      "Direct Image URL: https://i.imgur.com/RTFPDKV.png\n"
     ]
    }
   ],
   "source": [
    "def upload_to_imgur(image_path, client_id):\n",
    "    \"\"\"Upload image to Imgur and return direct URL\"\"\"\n",
    "    try:\n",
    "        with open(image_path, 'rb') as file:\n",
    "            files = {'image': file}\n",
    "            headers = {'Authorization': f'Client-ID {client_id}'}\n",
    "            response = requests.post(\n",
    "                'https://api.imgur.com/3/upload',\n",
    "                headers=headers,\n",
    "                files=files\n",
    "            )\n",
    "            response.raise_for_status()\n",
    "            json_data = response.json()\n",
    "            return json_data['data']['link']\n",
    "    except Exception as e:\n",
    "        print(f\"Upload failed: {e}\")\n",
    "        return None\n",
    "\n",
    "def get_direct_image_url(image_path):\n",
    "    \"\"\"Get direct image URL that works with OpenAI API\"\"\"\n",
    "    direct_url = upload_to_imgur(image_path, IMGUR_CLIENT_ID)\n",
    "    if direct_url:\n",
    "        print(f\"Image uploaded successfully: {direct_url}\")\n",
    "        return direct_url\n",
    "    return None\n",
    "\n",
    "# Test\n",
    "image_path = 'diagrams_v3/airfoil_lift_diagram.png'\n",
    "direct_url = get_direct_image_url(image_path)\n",
    "print(f\"Direct Image URL: {direct_url}\")"
   ]
  },
  {
   "cell_type": "markdown",
   "metadata": {},
   "source": [
    "Image detail: auto"
   ]
  },
  {
   "cell_type": "code",
   "execution_count": null,
   "metadata": {},
   "outputs": [
    {
     "name": "stdout",
     "output_type": "stream",
     "text": [
      "Choice(finish_reason='length', index=0, logprobs=None, message=ChatCompletionMessage(content='The diagram illustrates the pressure differences on an airfoil, which is a fundamental concept in aerodynamics. Here are some critiques and observations:\\n\\n1. **Clarity of Labels**: \\n   - The axes are well-labeled, which helps in understanding the relationship between horizontal distance and vertical distance. However, the labels for \"Lower Pressure\" and \"Higher Pressure\" could be enhanced with arrows to indicate their respective locations more clearly.\\n\\n2. **Color Usage**: \\n   - The use of green for the upper wing surface (representing lower pressure) and blue for the lower wing surface (representing higher pressure) is effective. However, using slightly different shades could improve visual distinction.\\n\\n3. **Arrow Representation**: \\n   - The arrows indicating airflow direction are clear, but they could be more uniformly styled for better aesthetic coherence. Additional arrows demonstrating the flow pattern could provide a more comprehensive understanding of airflow behavior around the airfoil.\\n\\n4. **Graphical Elements**: \\n   - The shaded area between the two curves effectively signifies the pressure differential but might benefit from additional explanation in the form of a caption or legend.\\n\\n5. **Contextual Information**: \\n   - Including a brief description or equation related to Bernoulli’s principle could enhance the educational value of the diagram, as it is fundamental in explaining the observed pressure differences.\\n\\n6. **General Presentation**: \\n   - The overall presentation of the diagram is clean and well-structured. However, adding a grid or more', refusal=None, role='assistant', audio=None, function_call=None, tool_calls=None))\n"
     ]
    }
   ],
   "source": [
    "response = client.chat.completions.create(\n",
    "    model=\"gpt-4o-mini\",\n",
    "    messages=[\n",
    "        {\n",
    "            \"role\": \"user\",\n",
    "            \"content\": [\n",
    "                {\"type\": \"text\", \"text\": \"Critique the diagram.\"},\n",
    "                {\n",
    "                    \"type\": \"image_url\",\n",
    "                    \"image_url\": {\"url\": direct_url},\n",
    "                },\n",
    "            ],\n",
    "        }\n",
    "    ],\n",
    ")\n",
    "print(response.choices[0])"
   ]
  },
  {
   "cell_type": "code",
   "execution_count": 24,
   "metadata": {},
   "outputs": [
    {
     "name": "stdout",
     "output_type": "stream",
     "text": [
      "The diagram illustrates the pressure differences on an airfoil, which is a fundamental concept in aerodynamics. Here are some critiques and observations:\n",
      "\n",
      "1. **Clarity of Labels**: \n",
      "   - The axes are well-labeled, which helps in understanding the relationship between horizontal distance and vertical distance. However, the labels for \"Lower Pressure\" and \"Higher Pressure\" could be enhanced with arrows to indicate their respective locations more clearly.\n",
      "\n",
      "2. **Color Usage**: \n",
      "   - The use of green for the upper wing surface (representing lower pressure) and blue for the lower wing surface (representing higher pressure) is effective. However, using slightly different shades could improve visual distinction.\n",
      "\n",
      "3. **Arrow Representation**: \n",
      "   - The arrows indicating airflow direction are clear, but they could be more uniformly styled for better aesthetic coherence. Additional arrows demonstrating the flow pattern could provide a more comprehensive understanding of airflow behavior around the airfoil.\n",
      "\n",
      "4. **Graphical Elements**: \n",
      "   - The shaded area between the two curves effectively signifies the pressure differential but might benefit from additional explanation in the form of a caption or legend.\n",
      "\n",
      "5. **Contextual Information**: \n",
      "   - Including a brief description or equation related to Bernoulli’s principle could enhance the educational value of the diagram, as it is fundamental in explaining the observed pressure differences.\n",
      "\n",
      "6. **General Presentation**: \n",
      "   - The overall presentation of the diagram is clean and well-structured. However, adding a grid or more\n"
     ]
    }
   ],
   "source": [
    "print(response.choices[0].message.content)"
   ]
  },
  {
   "cell_type": "code",
   "execution_count": 23,
   "metadata": {},
   "outputs": [
    {
     "name": "stdout",
     "output_type": "stream",
     "text": [
      "36847\n"
     ]
    }
   ],
   "source": [
    "print(response.usage.prompt_tokens)"
   ]
  },
  {
   "cell_type": "markdown",
   "metadata": {},
   "source": [
    "**Observation**: Number of tokens consumed with base64 and image link is same, no difference at all. ~ 36000"
   ]
  },
  {
   "cell_type": "code",
   "execution_count": 26,
   "metadata": {},
   "outputs": [],
   "source": [
    "response = client.chat.completions.create(\n",
    "    model=\"gpt-4o-mini\",\n",
    "    messages=[\n",
    "        {\n",
    "            \"role\": \"user\",\n",
    "            \"content\": [\n",
    "                {\"type\": \"text\", \"text\": \"Critique the diagram.\"},\n",
    "                {\n",
    "                    \"type\": \"image_url\",\n",
    "                    \"image_url\": {\"url\": direct_url, \"detail\": \"low\"},\n",
    "                },\n",
    "            ],\n",
    "        }\n",
    "    ],\n",
    ")"
   ]
  },
  {
   "cell_type": "code",
   "execution_count": 27,
   "metadata": {},
   "outputs": [
    {
     "name": "stdout",
     "output_type": "stream",
     "text": [
      "The diagram illustrating pressure differences on an airfoil is informative, but here are some critiques and suggestions for improvement:\n",
      "\n",
      "1. **Title Clarity**: The title, \"Pressure Differences on an Airfoil,\" is clear, but it could be enhanced by specifying that it relates to airflow dynamics or aerodynamics.\n",
      "\n",
      "2. **Axes Labels**: The axes are labeled as \"Horizontal Distance\" and \"Vertical Distance,\" which is appropriate. However, it would improve clarity to specify the units of measurement (e.g., meters) if applicable.\n",
      "\n",
      "3. **Color Coding**: The use of color to distinguish between the upper and lower wing surfaces is effective. However, it may be beneficial to include a legend that clearly defines the colors used for \"Lower Pressure\" and \"Higher Pressure.\"\n",
      "\n",
      "4. **Arrow Direction**: The arrows indicating airflow direction are helpful, but it could be clearer if they were labeled or accompanied by annotations explaining their significance (e.g., how they relate to lift).\n",
      "\n",
      "5. **Pressure Indication**: Adding contour lines or numerical values depicting the pressure differences around the airfoil would enhance understanding of how pressure changes across different regions.\n",
      "\n",
      "6. **Graph Layout**: The overall layout is straightforward, but consider adjusting the scale or aspect ratio to provide a more proportional representation of the airfoil shape.\n",
      "\n",
      "7. **Contextual Information**: Including brief annotations or data points that explain the physics behind the pressure differences (e.g., Bernoulli’s principle) could enhance educational value.\n",
      "\n",
      "By incorporating these enhancements, the diagram could provide a more comprehensive understanding of pressure dynamics on an airfoil.\n"
     ]
    }
   ],
   "source": [
    "print(response.choices[0].message.content)"
   ]
  },
  {
   "cell_type": "code",
   "execution_count": 28,
   "metadata": {},
   "outputs": [
    {
     "name": "stdout",
     "output_type": "stream",
     "text": [
      "2845\n"
     ]
    }
   ],
   "source": [
    "print(response.usage.prompt_tokens)"
   ]
  },
  {
   "cell_type": "markdown",
   "metadata": {},
   "source": [
    "Observations\n",
    "- Base64 with resolution: low gives good results\n",
    "    - high res: 36,000 tokens/image, low res: 3000 tokens/image\n",
    "    - latency is also reduced with low resolution images\n",
    "    - giving image link instead of base64 does not seem to have any impact at least for single use\n",
    "\n",
    "- Open AI recommends using link instead of base64 for long running conversations with same image\n",
    "    - \"\"\"If you want to pass the same image to the model multiple times, you will have to pass the image each time you make a request to the API.\n",
    "\n",
    "    For long running conversations, we suggest passing images via URL's instead of base64. \"\"\"\n",
    "    - Possibly because for base64 -> num tokens = num of times image sent * base64 length of image\n",
    "    - But if link is sent in prompt -> llm server may cache the base64 representation for a certain amount of time?? therefore num tokens = base64 lenght of image ?? Not sure."
   ]
  },
  {
   "cell_type": "markdown",
   "metadata": {},
   "source": [
    "# Code below from Claude 3.5 Sonnet"
   ]
  },
  {
   "cell_type": "code",
   "execution_count": 4,
   "metadata": {},
   "outputs": [
    {
     "data": {
      "image/png": "[encoded data removed]",
      "text/plain": [
       "<Figure size 1000x600 with 1 Axes>"
      ]
     },
     "metadata": {},
     "output_type": "display_data"
    }
   ],
   "source": [
    "import matplotlib.pyplot as plt\n",
    "import numpy as np \n",
    "\n",
    "# Create figure and axis\n",
    "fig, ax = plt.subplots(figsize=(10, 6))\n",
    "\n",
    "# Create airfoil shape using bezier curve\n",
    "x = np.linspace(0, 10, 100) \n",
    "y_upper = 1.5 * (1 - x/5) * np.exp(-0.5 * x/2) \n",
    "y_lower = -0.5 * (1 - x/5) * np.exp(-0.5 * x/2)\n",
    "\n",
    "# Plot airfoil\n",
    "ax.fill(x, y_upper, x[::-1], y_lower[::-1], color='gray', alpha=0.3) \n",
    "ax.plot(x, y_upper, 'gray', x, y_lower, 'gray')\n",
    "\n",
    "# Plot streamlines\n",
    "x_flow = np.linspace(-2, 12, 100)\n",
    "\n",
    "# Upper streamline\n",
    "y_flow_upper = 2 + 0.5 * np.sin(x_flow/2) * np.exp(-0.2 * x_flow)\n",
    "\n",
    "# Lower streamline\n",
    "y_flow_lower = -1 + 0.2 * np.sin(x_flow/2) * np.exp(-0.2 * x_flow)\n",
    "\n",
    "ax.plot(x_flow, y_flow_upper, 'b--', alpha=0.6, linewidth=2) \n",
    "ax.plot(x_flow, y_flow_lower, 'b--', alpha=0.6, linewidth=2)\n",
    "\n",
    "# Add arrows for airflow direction\n",
    "for i in range(-2, 12, 2): \n",
    "    ax.arrow(i, y_flow_upper[::10][i//2+1], 0.5, 0, head_width=0.1, head_length=0.2, fc='blue', ec='blue', alpha=0.6) \n",
    "    ax.arrow(i, y_flow_lower[::10][i//2+1], 0.5, 0, head_width=0.1, head_length=0.2, fc='blue', ec='blue', alpha=0.6)\n",
    "\n",
    "# Add pressure indicators\n",
    "for i in range(1, 9): # More arrows below (high pressure) ax.arrow(i, -0.8, 0, 0.2, head_width=0.1, head_length=0.1, fc='red', ec='red', alpha=0.4) if i % 2 == 0: # Fewer arrows above (low pressure) ax.arrow(i, 1.8, 0, -0.2, head_width=0.1, head_length=0.1, fc='lightblue', ec='lightblue', alpha=0.4)\n",
    "\n",
    "    # Add labels\n",
    "    ax.text(5, 2.5, 'Lower Pressure', ha='center', fontsize=10) \n",
    "    ax.text(5, -1.5, 'Higher Pressure', ha='center', fontsize=10) \n",
    "    ax.text(-1.5, 0, 'Airflow', ha='right', fontsize=10)\n",
    "\n",
    "    # Set title\n",
    "    ax.set_title(\"Bernoulli's Principle and Lift Generation\", pad=20)\n",
    "\n",
    "    # Set axis properties\n",
    "    ax.set_xlim(-2, 12) \n",
    "    ax.set_ylim(-2, 3) \n",
    "    ax.set_aspect('equal') \n",
    "    ax.axis('off')\n",
    "\n",
    "plt.show()"
   ]
  },
  {
   "cell_type": "markdown",
   "metadata": {},
   "source": [
    "# Code below from o1-preview (preview)"
   ]
  },
  {
   "cell_type": "code",
   "execution_count": null,
   "metadata": {},
   "outputs": [],
   "source": []
  },
  {
   "cell_type": "code",
   "execution_count": 7,
   "metadata": {},
   "outputs": [
    {
     "ename": "AttributeError",
     "evalue": "'int' object has no attribute 'shape'",
     "output_type": "error",
     "traceback": [
      "\u001b[0;31m---------------------------------------------------------------------------\u001b[0m",
      "\u001b[0;31mAttributeError\u001b[0m                            Traceback (most recent call last)",
      "Cell \u001b[0;32mIn[7], line 29\u001b[0m\n\u001b[1;32m     25\u001b[0m V_mag \u001b[38;5;241m=\u001b[39m np\u001b[38;5;241m.\u001b[39mwhere(Y \u001b[38;5;241m>\u001b[39m \u001b[38;5;241m0\u001b[39m, V \u001b[38;5;241m+\u001b[39m \u001b[38;5;241m0.5\u001b[39m, V)\n\u001b[1;32m     27\u001b[0m \u001b[38;5;66;03m# Step 6: Create streamlines\u001b[39;00m\n\u001b[1;32m     28\u001b[0m \u001b[38;5;66;03m# strm = ax.streamplot(X, Y, U, V_mag, color='blue', density=[2, 1.5], linewidth=1, arrowsize=1)\u001b[39;00m\n\u001b[0;32m---> 29\u001b[0m strm \u001b[38;5;241m=\u001b[39m \u001b[43max\u001b[49m\u001b[38;5;241;43m.\u001b[39;49m\u001b[43mstreamplot\u001b[49m\u001b[43m(\u001b[49m\u001b[43mX\u001b[49m\u001b[43m,\u001b[49m\u001b[43m \u001b[49m\u001b[43mY\u001b[49m\u001b[43m,\u001b[49m\u001b[43m \u001b[49m\u001b[43mU\u001b[49m\u001b[43m,\u001b[49m\u001b[43m \u001b[49m\u001b[43mV_mag\u001b[49m\u001b[43m,\u001b[49m\u001b[43m \u001b[49m\u001b[43mcolor\u001b[49m\u001b[38;5;241;43m=\u001b[39;49m\u001b[38;5;124;43m'\u001b[39;49m\u001b[38;5;124;43mblue\u001b[39;49m\u001b[38;5;124;43m'\u001b[39;49m\u001b[43m,\u001b[49m\u001b[43m \u001b[49m\u001b[43mdensity\u001b[49m\u001b[38;5;241;43m=\u001b[39;49m\u001b[43m[\u001b[49m\u001b[38;5;241;43m2\u001b[39;49m\u001b[43m,\u001b[49m\u001b[43m \u001b[49m\u001b[38;5;241;43m1.5\u001b[39;49m\u001b[43m]\u001b[49m\u001b[43m,\u001b[49m\u001b[43m \u001b[49m\u001b[43mlinewidth\u001b[49m\u001b[38;5;241;43m=\u001b[39;49m\u001b[38;5;241;43m1\u001b[39;49m\u001b[43m,\u001b[49m\u001b[43m \u001b[49m\u001b[43marrowsize\u001b[49m\u001b[38;5;241;43m=\u001b[39;49m\u001b[38;5;241;43m1\u001b[39;49m\u001b[43m)\u001b[49m\n\u001b[1;32m     31\u001b[0m \u001b[38;5;66;03m# Step 7: Indicate pressure difference with shading\u001b[39;00m\n\u001b[1;32m     32\u001b[0m ax\u001b[38;5;241m.\u001b[39mcontourf(X, Y, Y, levels\u001b[38;5;241m=\u001b[39m\u001b[38;5;241m0\u001b[39m, colors\u001b[38;5;241m=\u001b[39m[\u001b[38;5;124m'\u001b[39m\u001b[38;5;124mred\u001b[39m\u001b[38;5;124m'\u001b[39m, \u001b[38;5;124m'\u001b[39m\u001b[38;5;124mlightblue\u001b[39m\u001b[38;5;124m'\u001b[39m], alpha\u001b[38;5;241m=\u001b[39m\u001b[38;5;241m0.2\u001b[39m)\n",
      "File \u001b[0;32m~/miniconda3/envs/argonk/lib/python3.12/site-packages/matplotlib/__init__.py:1473\u001b[0m, in \u001b[0;36m_preprocess_data.<locals>.inner\u001b[0;34m(ax, data, *args, **kwargs)\u001b[0m\n\u001b[1;32m   1470\u001b[0m \u001b[38;5;129m@functools\u001b[39m\u001b[38;5;241m.\u001b[39mwraps(func)\n\u001b[1;32m   1471\u001b[0m \u001b[38;5;28;01mdef\u001b[39;00m \u001b[38;5;21minner\u001b[39m(ax, \u001b[38;5;241m*\u001b[39margs, data\u001b[38;5;241m=\u001b[39m\u001b[38;5;28;01mNone\u001b[39;00m, \u001b[38;5;241m*\u001b[39m\u001b[38;5;241m*\u001b[39mkwargs):\n\u001b[1;32m   1472\u001b[0m     \u001b[38;5;28;01mif\u001b[39;00m data \u001b[38;5;129;01mis\u001b[39;00m \u001b[38;5;28;01mNone\u001b[39;00m:\n\u001b[0;32m-> 1473\u001b[0m         \u001b[38;5;28;01mreturn\u001b[39;00m \u001b[43mfunc\u001b[49m\u001b[43m(\u001b[49m\n\u001b[1;32m   1474\u001b[0m \u001b[43m            \u001b[49m\u001b[43max\u001b[49m\u001b[43m,\u001b[49m\n\u001b[1;32m   1475\u001b[0m \u001b[43m            \u001b[49m\u001b[38;5;241;43m*\u001b[39;49m\u001b[38;5;28;43mmap\u001b[39;49m\u001b[43m(\u001b[49m\u001b[43msanitize_sequence\u001b[49m\u001b[43m,\u001b[49m\u001b[43m \u001b[49m\u001b[43margs\u001b[49m\u001b[43m)\u001b[49m\u001b[43m,\u001b[49m\n\u001b[1;32m   1476\u001b[0m \u001b[43m            \u001b[49m\u001b[38;5;241;43m*\u001b[39;49m\u001b[38;5;241;43m*\u001b[39;49m\u001b[43m{\u001b[49m\u001b[43mk\u001b[49m\u001b[43m:\u001b[49m\u001b[43m \u001b[49m\u001b[43msanitize_sequence\u001b[49m\u001b[43m(\u001b[49m\u001b[43mv\u001b[49m\u001b[43m)\u001b[49m\u001b[43m \u001b[49m\u001b[38;5;28;43;01mfor\u001b[39;49;00m\u001b[43m \u001b[49m\u001b[43mk\u001b[49m\u001b[43m,\u001b[49m\u001b[43m \u001b[49m\u001b[43mv\u001b[49m\u001b[43m \u001b[49m\u001b[38;5;129;43;01min\u001b[39;49;00m\u001b[43m \u001b[49m\u001b[43mkwargs\u001b[49m\u001b[38;5;241;43m.\u001b[39;49m\u001b[43mitems\u001b[49m\u001b[43m(\u001b[49m\u001b[43m)\u001b[49m\u001b[43m}\u001b[49m\u001b[43m)\u001b[49m\n\u001b[1;32m   1478\u001b[0m     bound \u001b[38;5;241m=\u001b[39m new_sig\u001b[38;5;241m.\u001b[39mbind(ax, \u001b[38;5;241m*\u001b[39margs, \u001b[38;5;241m*\u001b[39m\u001b[38;5;241m*\u001b[39mkwargs)\n\u001b[1;32m   1479\u001b[0m     auto_label \u001b[38;5;241m=\u001b[39m (bound\u001b[38;5;241m.\u001b[39marguments\u001b[38;5;241m.\u001b[39mget(label_namer)\n\u001b[1;32m   1480\u001b[0m                   \u001b[38;5;129;01mor\u001b[39;00m bound\u001b[38;5;241m.\u001b[39mkwargs\u001b[38;5;241m.\u001b[39mget(label_namer))\n",
      "File \u001b[0;32m~/miniconda3/envs/argonk/lib/python3.12/site-packages/matplotlib/streamplot.py:141\u001b[0m, in \u001b[0;36mstreamplot\u001b[0;34m(axes, x, y, u, v, density, linewidth, color, cmap, norm, arrowsize, arrowstyle, minlength, transform, zorder, start_points, maxlength, integration_direction, broken_streamlines)\u001b[0m\n\u001b[1;32m    138\u001b[0m arrow_kw[\u001b[38;5;124m'\u001b[39m\u001b[38;5;124mzorder\u001b[39m\u001b[38;5;124m'\u001b[39m] \u001b[38;5;241m=\u001b[39m zorder\n\u001b[1;32m    140\u001b[0m \u001b[38;5;66;03m# Sanity checks.\u001b[39;00m\n\u001b[0;32m--> 141\u001b[0m \u001b[38;5;28;01mif\u001b[39;00m \u001b[43mu\u001b[49m\u001b[38;5;241;43m.\u001b[39;49m\u001b[43mshape\u001b[49m \u001b[38;5;241m!=\u001b[39m grid\u001b[38;5;241m.\u001b[39mshape \u001b[38;5;129;01mor\u001b[39;00m v\u001b[38;5;241m.\u001b[39mshape \u001b[38;5;241m!=\u001b[39m grid\u001b[38;5;241m.\u001b[39mshape:\n\u001b[1;32m    142\u001b[0m     \u001b[38;5;28;01mraise\u001b[39;00m \u001b[38;5;167;01mValueError\u001b[39;00m(\u001b[38;5;124m\"\u001b[39m\u001b[38;5;124m'\u001b[39m\u001b[38;5;124mu\u001b[39m\u001b[38;5;124m'\u001b[39m\u001b[38;5;124m and \u001b[39m\u001b[38;5;124m'\u001b[39m\u001b[38;5;124mv\u001b[39m\u001b[38;5;124m'\u001b[39m\u001b[38;5;124m must match the shape of the (x, y) grid\u001b[39m\u001b[38;5;124m\"\u001b[39m)\n\u001b[1;32m    144\u001b[0m u \u001b[38;5;241m=\u001b[39m np\u001b[38;5;241m.\u001b[39mma\u001b[38;5;241m.\u001b[39mmasked_invalid(u)\n",
      "\u001b[0;31mAttributeError\u001b[0m: 'int' object has no attribute 'shape'"
     ]
    },
    {
     "data": {
      "image/png": "[encoded data removed]",
      "text/plain": [
       "<Figure size 1200x600 with 1 Axes>"
      ]
     },
     "metadata": {},
     "output_type": "display_data"
    }
   ],
   "source": [
    "import matplotlib.pyplot as plt\n",
    "import numpy as np \n",
    "\n",
    "# Step 1: Create figure and axis\n",
    "fig, ax = plt.subplots(figsize=(12, 6))\n",
    "\n",
    "# Step 2: Define airfoil shape\n",
    "theta = np.linspace(0, 2*np.pi, 200) \n",
    "r = 1 - 0.3*np.sin(theta) \n",
    "x_airfoil = r * np.cos(theta) \n",
    "y_airfoil = r * np.sin(theta)\n",
    "\n",
    "# Step 3: Plot airfoil\n",
    "ax.fill(x_airfoil, y_airfoil, color='gray', zorder=5)\n",
    "\n",
    "# Step 4: Generate grid for streamlines\n",
    "X, Y = np.meshgrid(np.linspace(-3, 3, 500), np.linspace(-2, 2, 500))\n",
    "\n",
    "# Step 5: Define velocity field\n",
    "U = 1 \n",
    "V = 0\n",
    "\n",
    "# Modify velocity above the wing for faster airflow\n",
    "speed = np.sqrt((U)**2 + (V)**2) \n",
    "V_mag = np.where(Y > 0, V + 0.5, V)\n",
    "\n",
    "# Step 6: Create streamlines\n",
    "# strm = ax.streamplot(X, Y, U, V_mag, color='blue', density=[2, 1.5], linewidth=1, arrowsize=1)\n",
    "strm = ax.streamplot(X, Y, U, V_mag, color='blue', density=[2, 1.5], linewidth=1, arrowsize=1)\n",
    "\n",
    "# Step 7: Indicate pressure difference with shading\n",
    "ax.contourf(X, Y, Y, levels=0, colors=['red', 'lightblue'], alpha=0.2)\n",
    "\n",
    "# Step 8: Add labels\n",
    "ax.text(0, 1.5, 'Lower Pressure', fontsize=12, ha='center') \n",
    "ax.text(0, -1.5, 'Higher Pressure', fontsize=12, ha='center') \n",
    "ax.annotate('Airflow Direction', xy=(-2.5, 0.5), xytext=(-3, 1.5), arrowprops=dict(facecolor='black', shrink=0.05), fontsize=12)\n",
    "\n",
    "# Step 9: Enhance visual clarity\n",
    "ax.set_xlim(-3, 3) \n",
    "ax.set_ylim(-2, 2) \n",
    "ax.set_aspect('equal') \n",
    "ax.axis('off')\n",
    "\n",
    "plt.show() "
   ]
  },
  {
   "cell_type": "code",
   "execution_count": 9,
   "metadata": {},
   "outputs": [
    {
     "data": {
      "image/png": "[encoded data removed]",
      "text/plain": [
       "<Figure size 1200x600 with 1 Axes>"
      ]
     },
     "metadata": {},
     "output_type": "display_data"
    }
   ],
   "source": [
    "# Step 1: Create figure and axis\n",
    "fig, ax = plt.subplots(figsize=(12, 6))\n",
    "\n",
    "# Step 2: Define airfoil shape\n",
    "theta = np.linspace(0, 2*np.pi, 200) \n",
    "r = 1 - 0.3*np.sin(theta) \n",
    "x_airfoil = r * np.cos(theta) \n",
    "y_airfoil = r * np.sin(theta)\n",
    "\n",
    "# Step 3: Plot airfoil\n",
    "ax.fill(x_airfoil, y_airfoil, color='gray', zorder=5)\n",
    "\n",
    "# Step 4: Generate grid for streamlines\n",
    "X, Y = np.meshgrid(np.linspace(-3, 3, 500), np.linspace(-2, 2, 500))\n",
    "\n",
    "# Step 5: Define velocity field\n",
    "U = np.ones_like(X) \n",
    "V = np.zeros_like(X)\n",
    "\n",
    "# Modify velocity above the wing for faster airflow\n",
    "V = np.where(Y > 0, V + 0.5, V)\n",
    "\n",
    "# Step 6: Create streamlines\n",
    "strm = ax.streamplot(X, Y, U, V, color='blue', density=[2, 1.5], linewidth=1, arrowsize=1)\n",
    "\n",
    "# Step 7: Indicate pressure difference with shading\n",
    "ax.contourf(X, Y, Y, levels=0, colors=['red', 'lightblue'], alpha=0.2)\n",
    "\n",
    "# Step 8: Add labels\n",
    "ax.text(0, 1.5, 'Lower Pressure', fontsize=12, ha='center') \n",
    "ax.text(0, -1.5, 'Higher Pressure', fontsize=12, ha='center') \n",
    "ax.annotate('Airflow Direction', xy=(-2.5, 0.5), xytext=(-3, 1.5), arrowprops=dict(facecolor='black', shrink=0.05), fontsize=12)\n",
    "\n",
    "# Step 9: Enhance visual clarity\n",
    "ax.set_xlim(-3, 3) \n",
    "ax.set_ylim(-2, 2) \n",
    "ax.set_aspect('equal') \n",
    "ax.axis('off')\n",
    "\n",
    "plt.show()"
   ]
  },
  {
   "cell_type": "code",
   "execution_count": null,
   "metadata": {},
   "outputs": [],
   "source": []
  }
 ],
 "metadata": {
  "kernelspec": {
   "display_name": "Python (argonk)",
   "language": "python",
   "name": "argonk"
  },
  "language_info": {
   "codemirror_mode": {
    "name": "ipython",
    "version": 3
   },
   "file_extension": ".py",
   "mimetype": "text/x-python",
   "name": "python",
   "nbconvert_exporter": "python",
   "pygments_lexer": "ipython3",
   "version": "3.12.4"
  }
 },
 "nbformat": 4,
 "nbformat_minor": 2
}
