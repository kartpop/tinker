{
 "cells": [
  {
   "cell_type": "code",
   "execution_count": 15,
   "metadata": {},
   "outputs": [],
   "source": [
    "prompt_dev = \"\"\"\n",
    "\n",
    "You are an AI assistant that generates Python scripts using Matplotlib to create diagrams illustrating science concepts.\n",
    "\n",
    "You may be doing this task for the first time or as a redo based on feedback. \n",
    "\n",
    "Your output should be a json object with the following keys:\n",
    "{\n",
    "    \"plan\": \"Your pseudocode plan or your steps to improve the diagram based on feedback.\",\n",
    "    \"code\": \"Your Python code to generate the diagram.\",\n",
    "}\n",
    "\n",
    "If you are doing this task for the first time:\n",
    "\n",
    "- **Analyze** the text and identify key concepts that can be visually represented.\n",
    "    - **Concepts**: The text will contain scientific concepts.\n",
    "- **Scientific Accuracy**: Ensure the diagram is scientifically accurate and correctly represents the concepts.\n",
    "- **Easy Digestion**: Make the diagram easy to understand and digest, ensuring that the key concepts are clearly communicated.\n",
    "- **Plan** step-by-step what to include in the diagram, and write this plan in pseudocode with great detail.\n",
    "\n",
    "\n",
    "If you are doing this task as a REDO:\n",
    "\n",
    "- **Thoroughly review** your previous work and the subsequent feedback before proceeding.\n",
    "    - You have access to your previously generated code, the resulting image and the feedback provided.\n",
    "- **Aim to improve your performance** based on the feedback provided. Specifically, focus on the following:\n",
    "    - **Scientific Accuracy**: Ensure the diagram accurately represents the scientific concept.\n",
    "    - **Clarity**: Make the diagram as clear and easy to understand as possible. Consider labels, colors, and other visual elements.\n",
    "    - **Adhere to Feedback**: If feedback exists in previous chat completion messages, adhere to the feedback strictly.\n",
    "\n",
    "\n",
    "For both FIRST TIMERS and REDOERS:\n",
    "\n",
    "- **Assume**: \n",
    "    - the following imports have been made.\n",
    "        `import matplotlib.pyplot as plt\n",
    "        import numpy as np`\n",
    "    - the following variables are available to you:\n",
    "        - 'folder': a string containing the folder name.\n",
    "        - 'filename': a string containing the filename.\n",
    "- **Code output** the complete Python code in a single code block.\n",
    "    **Save** the plot: filepath should be combination of 'folder' and 'filename' which MUST be constructed and inserted as f string. (eg. ```plt.savefig(<insert-f-string>, format='png', dpi=300, bbox_inches='tight')```)\n",
    "\n",
    "Your code should be complete and runnable as-is to generate the diagram.\n",
    "\n",
    "Adhere STRICTLY to the output format specified:\n",
    "{\n",
    "    \"plan\": \"...\",\n",
    "    \"code\": \"...\",\n",
    "}\n",
    "\n",
    "\"\"\""
   ]
  },
  {
   "cell_type": "code",
   "execution_count": 3,
   "metadata": {},
   "outputs": [],
   "source": [
    "prompt_qa = \"\"\"\n",
    "\n",
    "You are an AI assistant that critiques Matplotlib diagrams, especially those illustrating STEM concepts.\n",
    "\n",
    "Your task is as follows:\n",
    "\n",
    "1. **Analyze** the diagram provided.\n",
    "2. **Identify** flaws in the diagram. Flaws can be both:\n",
    "    - **Visual**: Issues with clarity, labeling, aesthetics, color choices, or any elements that may cause confusion or misinterpretation.\n",
    "    - **Conceptual**: Errors in the representation of the underlying STEM concepts, inaccuracies in the data, or misinterpretations of the scientific principles.\n",
    "3. **Provide a detailed critique**:\n",
    "    - **Visual Flaws**: Describe each visual flaw clearly and suggest specific improvements.\n",
    "    - **Conceptual Flaws**: Pinpoint exact conceptual faults, explain why they are incorrect, and provide step-by-step instructions to resolve them.\n",
    "4. **If the diagram is correct** and has no flaws, state that it is correct.\n",
    "5. **If the diagram is incorrect** or can be improved, provide clear, detailed, and actionable instructions for improving the diagram. These instructions should include:\n",
    "    - Specific changes to the visual elements (e.g., labels, colors, line styles).\n",
    "    - Corrections to the conceptual representation (e.g., correct formulas, accurate data representation).\n",
    "    - If necessary, suggest completely redoing the work with a new approach or diagram.\n",
    "6. **Ensure clarity and precision**: Your critique should be easy to understand and implement, with no ambiguity.\n",
    "\n",
    "\"\"\""
   ]
  },
  {
   "cell_type": "markdown",
   "metadata": {},
   "source": [
    "ideas\n",
    "- prompt_qa: add -> you have access to code and base64 image\n",
    "- prompt_dev: add -> you have access to previous code, base64 image and critique...\n",
    "\n",
    "\n",
    "- function which generates image -> returns dict : { 'image': 'true', 'base64': '......'}\n",
    "\n",
    "- handle_tool_calls func in swarm.core should append an extra role: user message with base64 image\n",
    "\n",
    "- run func in swarm.core should truncate earlier dev, image, qa messages so that an image is not sent a lot many times..."
   ]
  },
  {
   "cell_type": "code",
   "execution_count": 8,
   "metadata": {},
   "outputs": [
    {
     "name": "stdout",
     "output_type": "stream",
     "text": [
      "Image URL: https://gofile.io/d/7sANjr\n"
     ]
    }
   ],
   "source": [
    "import requests\n",
    "\n",
    "file_path = 'diagrams_v3/how_lift_is_generated_by_airfoil_v3.jpg'\n",
    "response = requests.post(\"https://store6.gofile.io/uploadFile\", files={\"file\": open(file_path, \"rb\")})\n",
    "link = response.json()[\"data\"][\"downloadPage\"]\n",
    "print(\"Image URL:\", link)\n"
   ]
  },
  {
   "cell_type": "code",
   "execution_count": 10,
   "metadata": {},
   "outputs": [
    {
     "name": "stdout",
     "output_type": "stream",
     "text": [
      "{'data': {'createTime': 1730449411, 'downloadPage': 'https://gofile.io/d/7sANjr', 'guestToken': 'IGREkWqzJeaKfjoRBSSwtkBo6rdmZ7om', 'id': 'd46ae4e6-1c97-4e14-ac15-112f41eb2045', 'md5': '1077a7d5ee115181e8ec9f451b67a10d', 'mimetype': 'image/jpeg', 'modTime': 1730449411, 'name': 'how_lift_is_generated_by_airfoil_v3.jpg', 'parentFolder': 'e28f1763-04f0-4e93-8153-691c67eb9180', 'parentFolderCode': '7sANjr', 'servers': ['store6'], 'size': 214551, 'type': 'file'}, 'status': 'ok'}\n"
     ]
    }
   ],
   "source": [
    "print(response.json())"
   ]
  },
  {
   "cell_type": "code",
   "execution_count": 5,
   "metadata": {},
   "outputs": [
    {
     "data": {
      "text/plain": [
       "<Response [500]>"
      ]
     },
     "execution_count": 5,
     "metadata": {},
     "output_type": "execute_result"
    }
   ],
   "source": [
    "response"
   ]
  },
  {
   "cell_type": "code",
   "execution_count": 12,
   "metadata": {},
   "outputs": [
    {
     "ename": "JSONDecodeError",
     "evalue": "Expecting value: line 1 column 1 (char 0)",
     "output_type": "error",
     "traceback": [
      "\u001b[0;31m---------------------------------------------------------------------------\u001b[0m",
      "\u001b[0;31mJSONDecodeError\u001b[0m                           Traceback (most recent call last)",
      "File \u001b[0;32m~/miniconda3/envs/argonk/lib/python3.12/site-packages/requests/models.py:974\u001b[0m, in \u001b[0;36mResponse.json\u001b[0;34m(self, **kwargs)\u001b[0m\n\u001b[1;32m    973\u001b[0m \u001b[38;5;28;01mtry\u001b[39;00m:\n\u001b[0;32m--> 974\u001b[0m     \u001b[38;5;28;01mreturn\u001b[39;00m \u001b[43mcomplexjson\u001b[49m\u001b[38;5;241;43m.\u001b[39;49m\u001b[43mloads\u001b[49m\u001b[43m(\u001b[49m\u001b[38;5;28;43mself\u001b[39;49m\u001b[38;5;241;43m.\u001b[39;49m\u001b[43mtext\u001b[49m\u001b[43m,\u001b[49m\u001b[43m \u001b[49m\u001b[38;5;241;43m*\u001b[39;49m\u001b[38;5;241;43m*\u001b[39;49m\u001b[43mkwargs\u001b[49m\u001b[43m)\u001b[49m\n\u001b[1;32m    975\u001b[0m \u001b[38;5;28;01mexcept\u001b[39;00m JSONDecodeError \u001b[38;5;28;01mas\u001b[39;00m e:\n\u001b[1;32m    976\u001b[0m     \u001b[38;5;66;03m# Catch JSON-related errors and raise as requests.JSONDecodeError\u001b[39;00m\n\u001b[1;32m    977\u001b[0m     \u001b[38;5;66;03m# This aliases json.JSONDecodeError and simplejson.JSONDecodeError\u001b[39;00m\n",
      "File \u001b[0;32m~/miniconda3/envs/argonk/lib/python3.12/json/__init__.py:346\u001b[0m, in \u001b[0;36mloads\u001b[0;34m(s, cls, object_hook, parse_float, parse_int, parse_constant, object_pairs_hook, **kw)\u001b[0m\n\u001b[1;32m    343\u001b[0m \u001b[38;5;28;01mif\u001b[39;00m (\u001b[38;5;28mcls\u001b[39m \u001b[38;5;129;01mis\u001b[39;00m \u001b[38;5;28;01mNone\u001b[39;00m \u001b[38;5;129;01mand\u001b[39;00m object_hook \u001b[38;5;129;01mis\u001b[39;00m \u001b[38;5;28;01mNone\u001b[39;00m \u001b[38;5;129;01mand\u001b[39;00m\n\u001b[1;32m    344\u001b[0m         parse_int \u001b[38;5;129;01mis\u001b[39;00m \u001b[38;5;28;01mNone\u001b[39;00m \u001b[38;5;129;01mand\u001b[39;00m parse_float \u001b[38;5;129;01mis\u001b[39;00m \u001b[38;5;28;01mNone\u001b[39;00m \u001b[38;5;129;01mand\u001b[39;00m\n\u001b[1;32m    345\u001b[0m         parse_constant \u001b[38;5;129;01mis\u001b[39;00m \u001b[38;5;28;01mNone\u001b[39;00m \u001b[38;5;129;01mand\u001b[39;00m object_pairs_hook \u001b[38;5;129;01mis\u001b[39;00m \u001b[38;5;28;01mNone\u001b[39;00m \u001b[38;5;129;01mand\u001b[39;00m \u001b[38;5;129;01mnot\u001b[39;00m kw):\n\u001b[0;32m--> 346\u001b[0m     \u001b[38;5;28;01mreturn\u001b[39;00m \u001b[43m_default_decoder\u001b[49m\u001b[38;5;241;43m.\u001b[39;49m\u001b[43mdecode\u001b[49m\u001b[43m(\u001b[49m\u001b[43ms\u001b[49m\u001b[43m)\u001b[49m\n\u001b[1;32m    347\u001b[0m \u001b[38;5;28;01mif\u001b[39;00m \u001b[38;5;28mcls\u001b[39m \u001b[38;5;129;01mis\u001b[39;00m \u001b[38;5;28;01mNone\u001b[39;00m:\n",
      "File \u001b[0;32m~/miniconda3/envs/argonk/lib/python3.12/json/decoder.py:337\u001b[0m, in \u001b[0;36mJSONDecoder.decode\u001b[0;34m(self, s, _w)\u001b[0m\n\u001b[1;32m    333\u001b[0m \u001b[38;5;250m\u001b[39m\u001b[38;5;124;03m\"\"\"Return the Python representation of ``s`` (a ``str`` instance\u001b[39;00m\n\u001b[1;32m    334\u001b[0m \u001b[38;5;124;03mcontaining a JSON document).\u001b[39;00m\n\u001b[1;32m    335\u001b[0m \n\u001b[1;32m    336\u001b[0m \u001b[38;5;124;03m\"\"\"\u001b[39;00m\n\u001b[0;32m--> 337\u001b[0m obj, end \u001b[38;5;241m=\u001b[39m \u001b[38;5;28;43mself\u001b[39;49m\u001b[38;5;241;43m.\u001b[39;49m\u001b[43mraw_decode\u001b[49m\u001b[43m(\u001b[49m\u001b[43ms\u001b[49m\u001b[43m,\u001b[49m\u001b[43m \u001b[49m\u001b[43midx\u001b[49m\u001b[38;5;241;43m=\u001b[39;49m\u001b[43m_w\u001b[49m\u001b[43m(\u001b[49m\u001b[43ms\u001b[49m\u001b[43m,\u001b[49m\u001b[43m \u001b[49m\u001b[38;5;241;43m0\u001b[39;49m\u001b[43m)\u001b[49m\u001b[38;5;241;43m.\u001b[39;49m\u001b[43mend\u001b[49m\u001b[43m(\u001b[49m\u001b[43m)\u001b[49m\u001b[43m)\u001b[49m\n\u001b[1;32m    338\u001b[0m end \u001b[38;5;241m=\u001b[39m _w(s, end)\u001b[38;5;241m.\u001b[39mend()\n",
      "File \u001b[0;32m~/miniconda3/envs/argonk/lib/python3.12/json/decoder.py:355\u001b[0m, in \u001b[0;36mJSONDecoder.raw_decode\u001b[0;34m(self, s, idx)\u001b[0m\n\u001b[1;32m    354\u001b[0m \u001b[38;5;28;01mexcept\u001b[39;00m \u001b[38;5;167;01mStopIteration\u001b[39;00m \u001b[38;5;28;01mas\u001b[39;00m err:\n\u001b[0;32m--> 355\u001b[0m     \u001b[38;5;28;01mraise\u001b[39;00m JSONDecodeError(\u001b[38;5;124m\"\u001b[39m\u001b[38;5;124mExpecting value\u001b[39m\u001b[38;5;124m\"\u001b[39m, s, err\u001b[38;5;241m.\u001b[39mvalue) \u001b[38;5;28;01mfrom\u001b[39;00m \u001b[38;5;28;01mNone\u001b[39;00m\n\u001b[1;32m    356\u001b[0m \u001b[38;5;28;01mreturn\u001b[39;00m obj, end\n",
      "\u001b[0;31mJSONDecodeError\u001b[0m: Expecting value: line 1 column 1 (char 0)",
      "\nDuring handling of the above exception, another exception occurred:\n",
      "\u001b[0;31mJSONDecodeError\u001b[0m                           Traceback (most recent call last)",
      "Cell \u001b[0;32mIn[12], line 12\u001b[0m\n\u001b[1;32m      4\u001b[0m folder_id \u001b[38;5;241m=\u001b[39m \u001b[38;5;124m'\u001b[39m\u001b[38;5;124me28f1763-04f0-4e93-8153-691c67eb9180\u001b[39m\u001b[38;5;124m'\u001b[39m\n\u001b[1;32m      6\u001b[0m response \u001b[38;5;241m=\u001b[39m requests\u001b[38;5;241m.\u001b[39mpost(\n\u001b[1;32m      7\u001b[0m     \u001b[38;5;124m\"\u001b[39m\u001b[38;5;124mhttps://store6.gofile.io/uploadFile\u001b[39m\u001b[38;5;124m\"\u001b[39m,\n\u001b[1;32m      8\u001b[0m     files\u001b[38;5;241m=\u001b[39m{\u001b[38;5;124m\"\u001b[39m\u001b[38;5;124mfile\u001b[39m\u001b[38;5;124m\"\u001b[39m: \u001b[38;5;28mopen\u001b[39m(file_path, \u001b[38;5;124m\"\u001b[39m\u001b[38;5;124mrb\u001b[39m\u001b[38;5;124m\"\u001b[39m)},\n\u001b[1;32m      9\u001b[0m     data\u001b[38;5;241m=\u001b[39m{\u001b[38;5;124m\"\u001b[39m\u001b[38;5;124mfolderId\u001b[39m\u001b[38;5;124m\"\u001b[39m: folder_id}\n\u001b[1;32m     10\u001b[0m )\n\u001b[0;32m---> 12\u001b[0m link \u001b[38;5;241m=\u001b[39m \u001b[43mresponse\u001b[49m\u001b[38;5;241;43m.\u001b[39;49m\u001b[43mjson\u001b[49m\u001b[43m(\u001b[49m\u001b[43m)\u001b[49m[\u001b[38;5;124m\"\u001b[39m\u001b[38;5;124mdata\u001b[39m\u001b[38;5;124m\"\u001b[39m][\u001b[38;5;124m\"\u001b[39m\u001b[38;5;124mdownloadPage\u001b[39m\u001b[38;5;124m\"\u001b[39m]\n\u001b[1;32m     13\u001b[0m \u001b[38;5;28mprint\u001b[39m(\u001b[38;5;124m\"\u001b[39m\u001b[38;5;124mImage URL:\u001b[39m\u001b[38;5;124m\"\u001b[39m, link)\n",
      "File \u001b[0;32m~/miniconda3/envs/argonk/lib/python3.12/site-packages/requests/models.py:978\u001b[0m, in \u001b[0;36mResponse.json\u001b[0;34m(self, **kwargs)\u001b[0m\n\u001b[1;32m    974\u001b[0m     \u001b[38;5;28;01mreturn\u001b[39;00m complexjson\u001b[38;5;241m.\u001b[39mloads(\u001b[38;5;28mself\u001b[39m\u001b[38;5;241m.\u001b[39mtext, \u001b[38;5;241m*\u001b[39m\u001b[38;5;241m*\u001b[39mkwargs)\n\u001b[1;32m    975\u001b[0m \u001b[38;5;28;01mexcept\u001b[39;00m JSONDecodeError \u001b[38;5;28;01mas\u001b[39;00m e:\n\u001b[1;32m    976\u001b[0m     \u001b[38;5;66;03m# Catch JSON-related errors and raise as requests.JSONDecodeError\u001b[39;00m\n\u001b[1;32m    977\u001b[0m     \u001b[38;5;66;03m# This aliases json.JSONDecodeError and simplejson.JSONDecodeError\u001b[39;00m\n\u001b[0;32m--> 978\u001b[0m     \u001b[38;5;28;01mraise\u001b[39;00m RequestsJSONDecodeError(e\u001b[38;5;241m.\u001b[39mmsg, e\u001b[38;5;241m.\u001b[39mdoc, e\u001b[38;5;241m.\u001b[39mpos)\n",
      "\u001b[0;31mJSONDecodeError\u001b[0m: Expecting value: line 1 column 1 (char 0)"
     ]
    }
   ],
   "source": [
    "import requests\n",
    "\n",
    "file_path = 'diagrams_v3/airfoil_lift_diagram.png'\n",
    "folder_id = 'e28f1763-04f0-4e93-8153-691c67eb9180'\n",
    "\n",
    "response = requests.post(\n",
    "    \"https://store6.gofile.io/uploadFile\",\n",
    "    files={\"file\": open(file_path, \"rb\")},\n",
    "    data={\"folderId\": folder_id}\n",
    ")\n",
    "\n",
    "link = response.json()[\"data\"][\"downloadPage\"]\n",
    "print(\"Image URL:\", link)"
   ]
  },
  {
   "cell_type": "code",
   "execution_count": null,
   "metadata": {},
   "outputs": [],
   "source": [
    "def generate_diagram_and_get_link(code_str : str, ):\n"
   ]
  }
 ],
 "metadata": {
  "kernelspec": {
   "display_name": "Python (argonk)",
   "language": "python",
   "name": "argonk"
  },
  "language_info": {
   "codemirror_mode": {
    "name": "ipython",
    "version": 3
   },
   "file_extension": ".py",
   "mimetype": "text/x-python",
   "name": "python",
   "nbconvert_exporter": "python",
   "pygments_lexer": "ipython3",
   "version": "3.12.4"
  }
 },
 "nbformat": 4,
 "nbformat_minor": 2
}
